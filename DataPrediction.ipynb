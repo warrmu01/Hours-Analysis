{
 "cells": [
  {
   "cell_type": "code",
   "execution_count": 1,
   "metadata": {},
   "outputs": [],
   "source": [
    "import pandas as pd\n",
    "import plotly.express as px\n",
    "import nbformat\n",
    "from sklearn.model_selection import train_test_split\n",
    "from sklearn.linear_model import LinearRegression\n",
    "from sklearn.metrics import mean_squared_error, r2_score\n",
    "\n",
    "from sklearn.model_selection import train_test_split\n",
    "from sklearn.ensemble import RandomForestClassifier\n",
    "from sklearn.metrics import accuracy_score\n",
    "from sklearn.ensemble import RandomForestRegressor\n",
    "from sklearn.neighbors import KNeighborsRegressor\n",
    "\n",
    "\n",
    "\n",
    "\n",
    "import numpy as np\n",
    "import pandas as pd\n",
    "from sklearn.linear_model import LinearRegression\n",
    "from sklearn.model_selection import train_test_split\n",
    "from sklearn.metrics import mean_squared_error, mean_absolute_error, r2_score\n",
    "\n"
   ]
  },
  {
   "cell_type": "code",
   "execution_count": 2,
   "metadata": {},
   "outputs": [],
   "source": [
    "DinningPred = pd.read_excel(\"DinningData.xlsx\", sheet_name='Data for 2025 pred')\n"
   ]
  },
  {
   "cell_type": "code",
   "execution_count": 3,
   "metadata": {},
   "outputs": [
    {
     "name": "stdout",
     "output_type": "stream",
     "text": [
      "<class 'pandas.core.frame.DataFrame'>\n",
      "RangeIndex: 285 entries, 0 to 284\n",
      "Data columns (total 6 columns):\n",
      " #   Column       Non-Null Count  Dtype  \n",
      "---  ------       --------------  -----  \n",
      " 0   DEP          285 non-null    int64  \n",
      " 1   Semester     285 non-null    int64  \n",
      " 2   Month        285 non-null    int64  \n",
      " 3   Year         285 non-null    int64  \n",
      " 4   Hours        285 non-null    float64\n",
      " 5   Money Spent  285 non-null    float64\n",
      "dtypes: float64(2), int64(4)\n",
      "memory usage: 13.5 KB\n"
     ]
    }
   ],
   "source": [
    "DinningPred.info()\n"
   ]
  },
  {
   "cell_type": "code",
   "execution_count": 4,
   "metadata": {},
   "outputs": [
    {
     "data": {
      "text/plain": [
       "DEP            0\n",
       "Semester       0\n",
       "Month          0\n",
       "Year           0\n",
       "Hours          0\n",
       "Money Spent    0\n",
       "dtype: int64"
      ]
     },
     "execution_count": 4,
     "metadata": {},
     "output_type": "execute_result"
    }
   ],
   "source": [
    "missing_values = DinningPred.isnull().sum()\n",
    "missing_values\n"
   ]
  },
  {
   "cell_type": "code",
   "execution_count": 246,
   "metadata": {},
   "outputs": [
    {
     "name": "stdout",
     "output_type": "stream",
     "text": [
      "Index(['DEP', 'Semester', 'Month', 'Year', 'Hours', 'Money Spent'], dtype='object')\n"
     ]
    }
   ],
   "source": [
    "print(DinningPred.columns)"
   ]
  },
  {
   "cell_type": "code",
   "execution_count": 247,
   "metadata": {},
   "outputs": [
    {
     "data": {
      "text/html": [
       "<div>\n",
       "<style scoped>\n",
       "    .dataframe tbody tr th:only-of-type {\n",
       "        vertical-align: middle;\n",
       "    }\n",
       "\n",
       "    .dataframe tbody tr th {\n",
       "        vertical-align: top;\n",
       "    }\n",
       "\n",
       "    .dataframe thead th {\n",
       "        text-align: right;\n",
       "    }\n",
       "</style>\n",
       "<table border=\"1\" class=\"dataframe\">\n",
       "  <thead>\n",
       "    <tr style=\"text-align: right;\">\n",
       "      <th></th>\n",
       "      <th>DEP</th>\n",
       "      <th>Semester</th>\n",
       "      <th>Month</th>\n",
       "      <th>Year</th>\n",
       "      <th>Hours</th>\n",
       "      <th>Money Spent</th>\n",
       "    </tr>\n",
       "  </thead>\n",
       "  <tbody>\n",
       "    <tr>\n",
       "      <th>0</th>\n",
       "      <td>1</td>\n",
       "      <td>1</td>\n",
       "      <td>9</td>\n",
       "      <td>2020</td>\n",
       "      <td>3859.98</td>\n",
       "      <td>31844.8350</td>\n",
       "    </tr>\n",
       "    <tr>\n",
       "      <th>1</th>\n",
       "      <td>1</td>\n",
       "      <td>1</td>\n",
       "      <td>10</td>\n",
       "      <td>2020</td>\n",
       "      <td>4722.98</td>\n",
       "      <td>38964.5850</td>\n",
       "    </tr>\n",
       "    <tr>\n",
       "      <th>2</th>\n",
       "      <td>1</td>\n",
       "      <td>1</td>\n",
       "      <td>11</td>\n",
       "      <td>2020</td>\n",
       "      <td>2842.68</td>\n",
       "      <td>23452.1100</td>\n",
       "    </tr>\n",
       "    <tr>\n",
       "      <th>3</th>\n",
       "      <td>1</td>\n",
       "      <td>1</td>\n",
       "      <td>12</td>\n",
       "      <td>2020</td>\n",
       "      <td>1348.50</td>\n",
       "      <td>11125.1250</td>\n",
       "    </tr>\n",
       "    <tr>\n",
       "      <th>4</th>\n",
       "      <td>1</td>\n",
       "      <td>2</td>\n",
       "      <td>1</td>\n",
       "      <td>2021</td>\n",
       "      <td>2247.99</td>\n",
       "      <td>18545.9175</td>\n",
       "    </tr>\n",
       "    <tr>\n",
       "      <th>...</th>\n",
       "      <td>...</td>\n",
       "      <td>...</td>\n",
       "      <td>...</td>\n",
       "      <td>...</td>\n",
       "      <td>...</td>\n",
       "      <td>...</td>\n",
       "    </tr>\n",
       "    <tr>\n",
       "      <th>280</th>\n",
       "      <td>5</td>\n",
       "      <td>2</td>\n",
       "      <td>1</td>\n",
       "      <td>2025</td>\n",
       "      <td>NaN</td>\n",
       "      <td>0.0000</td>\n",
       "    </tr>\n",
       "    <tr>\n",
       "      <th>281</th>\n",
       "      <td>5</td>\n",
       "      <td>3</td>\n",
       "      <td>2</td>\n",
       "      <td>2025</td>\n",
       "      <td>NaN</td>\n",
       "      <td>0.0000</td>\n",
       "    </tr>\n",
       "    <tr>\n",
       "      <th>282</th>\n",
       "      <td>5</td>\n",
       "      <td>3</td>\n",
       "      <td>3</td>\n",
       "      <td>2025</td>\n",
       "      <td>NaN</td>\n",
       "      <td>0.0000</td>\n",
       "    </tr>\n",
       "    <tr>\n",
       "      <th>283</th>\n",
       "      <td>5</td>\n",
       "      <td>3</td>\n",
       "      <td>4</td>\n",
       "      <td>2025</td>\n",
       "      <td>NaN</td>\n",
       "      <td>0.0000</td>\n",
       "    </tr>\n",
       "    <tr>\n",
       "      <th>284</th>\n",
       "      <td>5</td>\n",
       "      <td>3</td>\n",
       "      <td>5</td>\n",
       "      <td>2025</td>\n",
       "      <td>NaN</td>\n",
       "      <td>0.0000</td>\n",
       "    </tr>\n",
       "  </tbody>\n",
       "</table>\n",
       "<p>285 rows × 6 columns</p>\n",
       "</div>"
      ],
      "text/plain": [
       "     DEP  Semester  Month  Year    Hours  Money Spent\n",
       "0      1         1      9  2020  3859.98   31844.8350\n",
       "1      1         1     10  2020  4722.98   38964.5850\n",
       "2      1         1     11  2020  2842.68   23452.1100\n",
       "3      1         1     12  2020  1348.50   11125.1250\n",
       "4      1         2      1  2021  2247.99   18545.9175\n",
       "..   ...       ...    ...   ...      ...          ...\n",
       "280    5         2      1  2025      NaN       0.0000\n",
       "281    5         3      2  2025      NaN       0.0000\n",
       "282    5         3      3  2025      NaN       0.0000\n",
       "283    5         3      4  2025      NaN       0.0000\n",
       "284    5         3      5  2025      NaN       0.0000\n",
       "\n",
       "[285 rows x 6 columns]"
      ]
     },
     "execution_count": 247,
     "metadata": {},
     "output_type": "execute_result"
    }
   ],
   "source": [
    "DinningPred"
   ]
  },
  {
   "cell_type": "code",
   "execution_count": 257,
   "metadata": {},
   "outputs": [],
   "source": [
    "def impute_with_models(df, target_column, feature_columns, tolerance=0.1, n_neighbors=4,n_estimators=50, random_state=42):\n",
    "    # Separate the data into rows with and without missing values\n",
    "    df_missing = df[df[target_column].isnull()]\n",
    "    df_not_missing = df.dropna(subset=[target_column])\n",
    "\n",
    "    # If there are no missing values, return the original dataframe\n",
    "    if df_missing.empty:\n",
    "        print(f\"No missing values for {target_column}. Skipping imputation.\")\n",
    "        return df, None, None, None, None, None, None, None, None  # Return None for metrics\n",
    "\n",
    "    # Split df_not_missing into training and testing sets\n",
    "    X = df_not_missing[feature_columns]\n",
    "    y = df_not_missing[target_column]\n",
    "    X_train, X_test, y_train, y_test = train_test_split(X, y, test_size=0.2, random_state=42)\n",
    "\n",
    "    # Create and fit a linear regression model\n",
    "    lr_model = LinearRegression()\n",
    "    lr_model.fit(X_train, y_train)\n",
    "\n",
    "    # Predict on the test set to evaluate the linear regression model\n",
    "    lr_y_pred = lr_model.predict(X_test)\n",
    "\n",
    "    # Calculate evaluation metrics for linear regression\n",
    "    lr_mse = mean_squared_error(y_test, lr_y_pred)\n",
    "    lr_mae = mean_absolute_error(y_test, lr_y_pred)\n",
    "    lr_r2 = r2_score(y_test, lr_y_pred)\n",
    "\n",
    "    print(f\"Linear Regression Evaluation metrics for {target_column}:\")\n",
    "    print(f\"Mean Squared Error (MSE): {lr_mse:.2f}\")\n",
    "    print(f\"Mean Absolute Error (MAE): {lr_mae:.2f}\")\n",
    "    print(f\"R-squared (R²): {lr_r2:.2f}\")\n",
    "\n",
    "    # Create and fit a KNN model\n",
    "    knn_model = KNeighborsRegressor(n_neighbors=n_neighbors)\n",
    "    knn_model.fit(X_train, y_train)\n",
    "\n",
    "    # Predict on the test set to evaluate the KNN model\n",
    "    knn_y_pred = knn_model.predict(X_test)\n",
    "\n",
    "    # Calculate evaluation metrics for KNN\n",
    "    knn_mse = mean_squared_error(y_test, knn_y_pred)\n",
    "    knn_mae = mean_absolute_error(y_test, knn_y_pred)\n",
    "    knn_r2 = r2_score(y_test, knn_y_pred)\n",
    "\n",
    "    print(f\"KNN Evaluation metrics for {target_column}:\")\n",
    "    print(f\"Mean Squared Error (MSE): {knn_mse:.2f}\")\n",
    "    print(f\"Mean Absolute Error (MAE): {knn_mae:.2f}\")\n",
    "    print(f\"R-squared (R²): {knn_r2:.2f}\")\n",
    "\n",
    "    # Create and fit a Random Forest Regressor model\n",
    "    rf_model = RandomForestRegressor(n_estimators=n_estimators, random_state=random_state)\n",
    "    rf_model.fit(X_train, y_train)\n",
    "\n",
    "    # Predict on the test set to evaluate the model\n",
    "    rf_y_pred = rf_model.predict(X_test)\n",
    "\n",
    "    # Calculate evaluation metrics\n",
    "    rf_mse = mean_squared_error(y_test, rf_y_pred)\n",
    "    rf_mae = mean_absolute_error(y_test, rf_y_pred)\n",
    "    rf_r2 = r2_score(y_test, rf_y_pred)\n",
    "\n",
    "    print(f\"KNN Evaluation metrics for {target_column}:\")\n",
    "    print(f\"Mean Squared Error (MSE): {rf_mse:.2f}\")\n",
    "    print(f\"Mean Absolute Error (MAE): {rf_mae:.2f}\")\n",
    "    print(f\"R-squared (R²): {rf_r2:.2f}\")\n",
    "\n",
    "\n",
    "    # Predict missing values using the model (choose the better model based on R²)\n",
    "    X_missing = df_missing[feature_columns]\n",
    "    if lr_r2 > knn_r2 and lr_r2 > rf_r2 :\n",
    "        print(\"Using Linear Regression for imputation.\")\n",
    "        predicted_values = lr_model.predict(X_missing)\n",
    "    elif knn_r2 > lr_r2 and knn_r2 > rf_r2:\n",
    "        print(\"Using KNN for imputation.\")\n",
    "        predicted_values = knn_model.predict(X_missing)\n",
    "    else:\n",
    "        print(\"Using RF for imputation.\")\n",
    "        predicted_values = rf_model.predict(X_missing)\n",
    "\n",
    "    # Create a dataset with imputed missing values\n",
    "    df_filled = df.copy()\n",
    "    df_filled.loc[df_missing.index, target_column] = predicted_values\n",
    "\n",
    "    return df_filled, lr_mse, lr_mae, lr_r2, knn_mse, knn_mae, knn_r2, rf_mse, rf_mae, rf_r2\n"
   ]
  },
  {
   "cell_type": "code",
   "execution_count": 258,
   "metadata": {},
   "outputs": [],
   "source": [
    "target_columns_to_impute = ['Hours']\n",
    "feature_columns_for_imputation = ['Year', 'Month', 'DEP', 'Semester']\n",
    "linear_data = DinningPred.copy()"
   ]
  },
  {
   "cell_type": "code",
   "execution_count": 259,
   "metadata": {},
   "outputs": [
    {
     "name": "stdout",
     "output_type": "stream",
     "text": [
      "Linear Regression Evaluation metrics for Hours:\n",
      "Mean Squared Error (MSE): 128528.66\n",
      "Mean Absolute Error (MAE): 273.10\n",
      "R-squared (R²): 0.58\n",
      "KNN Evaluation metrics for Hours:\n",
      "Mean Squared Error (MSE): 35692.71\n",
      "Mean Absolute Error (MAE): 104.51\n",
      "R-squared (R²): 0.88\n",
      "KNN Evaluation metrics for Hours:\n",
      "Mean Squared Error (MSE): 40066.74\n",
      "Mean Absolute Error (MAE): 117.62\n",
      "R-squared (R²): 0.87\n",
      "Using KNN for imputation.\n",
      "Linear Regression - MSE: 128528.65507646448, MAE: 273.10225925214013, R²: 0.5828380816448937\n",
      "KNN - MSE: 35692.70673859878, MAE: 104.50530383333334, R²: 0.884153164090125\n",
      "RF - MSE: 40066.74014690586, MAE: 117.6155951154167, R²: 0.8699564842410037\n"
     ]
    }
   ],
   "source": [
    "for target_column in target_columns_to_impute:\n",
    "    linear_data, lr_mse, lr_mae, lr_r2, knn_mse, knn_mae, knn_r2, rf_mse, rf_mae, rf_r2 = impute_with_models(linear_data, target_column, feature_columns_for_imputation)\n",
    "    print(f\"Linear Regression - MSE: {lr_mse}, MAE: {lr_mae}, R²: {lr_r2}\")\n",
    "    print(f\"KNN - MSE: {knn_mse}, MAE: {knn_mae}, R²: {knn_r2}\")\n",
    "    print(f\"RF - MSE: {rf_mse}, MAE: {rf_mae}, R²: {rf_r2}\")"
   ]
  },
  {
   "cell_type": "code",
   "execution_count": 260,
   "metadata": {},
   "outputs": [
    {
     "name": "stdout",
     "output_type": "stream",
     "text": [
      "     DEP  Semester  Month  Year      Hours  Money Spent\n",
      "0      1         1      9  2020  3859.9800   31844.8350\n",
      "1      1         1     10  2020  4722.9800   38964.5850\n",
      "2      1         1     11  2020  2842.6800   23452.1100\n",
      "3      1         1     12  2020  1348.5000   11125.1250\n",
      "4      1         2      1  2021  2247.9900   18545.9175\n",
      "..   ...       ...    ...   ...        ...          ...\n",
      "280    5         2      1  2025   135.2225       0.0000\n",
      "281    5         3      2  2025   114.8400       0.0000\n",
      "282    5         3      3  2025   125.6800       0.0000\n",
      "283    5         3      4  2025   122.9750       0.0000\n",
      "284    5         3      5  2025    88.1975       0.0000\n",
      "\n",
      "[285 rows x 6 columns]\n"
     ]
    }
   ],
   "source": [
    "print(linear_data)\n"
   ]
  },
  {
   "cell_type": "code",
   "execution_count": 261,
   "metadata": {},
   "outputs": [
    {
     "data": {
      "text/plain": [
       "DEP            0\n",
       "Semester       0\n",
       "Month          0\n",
       "Year           0\n",
       "Hours          0\n",
       "Money Spent    0\n",
       "dtype: int64"
      ]
     },
     "execution_count": 261,
     "metadata": {},
     "output_type": "execute_result"
    }
   ],
   "source": [
    "missing_values = linear_data.isnull().sum()\n",
    "missing_values"
   ]
  },
  {
   "cell_type": "code",
   "execution_count": 262,
   "metadata": {},
   "outputs": [
    {
     "data": {
      "text/html": [
       "<div>\n",
       "<style scoped>\n",
       "    .dataframe tbody tr th:only-of-type {\n",
       "        vertical-align: middle;\n",
       "    }\n",
       "\n",
       "    .dataframe tbody tr th {\n",
       "        vertical-align: top;\n",
       "    }\n",
       "\n",
       "    .dataframe thead th {\n",
       "        text-align: right;\n",
       "    }\n",
       "</style>\n",
       "<table border=\"1\" class=\"dataframe\">\n",
       "  <thead>\n",
       "    <tr style=\"text-align: right;\">\n",
       "      <th></th>\n",
       "      <th>DEP</th>\n",
       "      <th>Semester</th>\n",
       "      <th>Month</th>\n",
       "      <th>Year</th>\n",
       "      <th>Hours</th>\n",
       "      <th>Money Spent</th>\n",
       "    </tr>\n",
       "  </thead>\n",
       "  <tbody>\n",
       "    <tr>\n",
       "      <th>52</th>\n",
       "      <td>1</td>\n",
       "      <td>2</td>\n",
       "      <td>1</td>\n",
       "      <td>2025</td>\n",
       "      <td>896.5525</td>\n",
       "      <td>0.0</td>\n",
       "    </tr>\n",
       "    <tr>\n",
       "      <th>53</th>\n",
       "      <td>1</td>\n",
       "      <td>3</td>\n",
       "      <td>2</td>\n",
       "      <td>2025</td>\n",
       "      <td>797.3625</td>\n",
       "      <td>0.0</td>\n",
       "    </tr>\n",
       "    <tr>\n",
       "      <th>54</th>\n",
       "      <td>1</td>\n",
       "      <td>3</td>\n",
       "      <td>3</td>\n",
       "      <td>2025</td>\n",
       "      <td>839.6650</td>\n",
       "      <td>0.0</td>\n",
       "    </tr>\n",
       "    <tr>\n",
       "      <th>55</th>\n",
       "      <td>1</td>\n",
       "      <td>3</td>\n",
       "      <td>4</td>\n",
       "      <td>2025</td>\n",
       "      <td>756.6600</td>\n",
       "      <td>0.0</td>\n",
       "    </tr>\n",
       "    <tr>\n",
       "      <th>56</th>\n",
       "      <td>1</td>\n",
       "      <td>3</td>\n",
       "      <td>5</td>\n",
       "      <td>2025</td>\n",
       "      <td>665.7075</td>\n",
       "      <td>0.0</td>\n",
       "    </tr>\n",
       "    <tr>\n",
       "      <th>109</th>\n",
       "      <td>2</td>\n",
       "      <td>2</td>\n",
       "      <td>1</td>\n",
       "      <td>2025</td>\n",
       "      <td>701.2000</td>\n",
       "      <td>0.0</td>\n",
       "    </tr>\n",
       "    <tr>\n",
       "      <th>110</th>\n",
       "      <td>2</td>\n",
       "      <td>3</td>\n",
       "      <td>2</td>\n",
       "      <td>2025</td>\n",
       "      <td>747.4500</td>\n",
       "      <td>0.0</td>\n",
       "    </tr>\n",
       "    <tr>\n",
       "      <th>111</th>\n",
       "      <td>2</td>\n",
       "      <td>3</td>\n",
       "      <td>3</td>\n",
       "      <td>2025</td>\n",
       "      <td>613.3475</td>\n",
       "      <td>0.0</td>\n",
       "    </tr>\n",
       "    <tr>\n",
       "      <th>112</th>\n",
       "      <td>2</td>\n",
       "      <td>3</td>\n",
       "      <td>4</td>\n",
       "      <td>2025</td>\n",
       "      <td>536.5900</td>\n",
       "      <td>0.0</td>\n",
       "    </tr>\n",
       "    <tr>\n",
       "      <th>113</th>\n",
       "      <td>2</td>\n",
       "      <td>3</td>\n",
       "      <td>5</td>\n",
       "      <td>2025</td>\n",
       "      <td>451.1075</td>\n",
       "      <td>0.0</td>\n",
       "    </tr>\n",
       "    <tr>\n",
       "      <th>166</th>\n",
       "      <td>3</td>\n",
       "      <td>2</td>\n",
       "      <td>1</td>\n",
       "      <td>2025</td>\n",
       "      <td>413.3500</td>\n",
       "      <td>0.0</td>\n",
       "    </tr>\n",
       "    <tr>\n",
       "      <th>167</th>\n",
       "      <td>3</td>\n",
       "      <td>3</td>\n",
       "      <td>2</td>\n",
       "      <td>2025</td>\n",
       "      <td>463.9400</td>\n",
       "      <td>0.0</td>\n",
       "    </tr>\n",
       "    <tr>\n",
       "      <th>168</th>\n",
       "      <td>3</td>\n",
       "      <td>3</td>\n",
       "      <td>3</td>\n",
       "      <td>2025</td>\n",
       "      <td>375.0825</td>\n",
       "      <td>0.0</td>\n",
       "    </tr>\n",
       "    <tr>\n",
       "      <th>169</th>\n",
       "      <td>3</td>\n",
       "      <td>3</td>\n",
       "      <td>4</td>\n",
       "      <td>2025</td>\n",
       "      <td>450.8175</td>\n",
       "      <td>0.0</td>\n",
       "    </tr>\n",
       "    <tr>\n",
       "      <th>170</th>\n",
       "      <td>3</td>\n",
       "      <td>3</td>\n",
       "      <td>5</td>\n",
       "      <td>2025</td>\n",
       "      <td>263.9150</td>\n",
       "      <td>0.0</td>\n",
       "    </tr>\n",
       "    <tr>\n",
       "      <th>223</th>\n",
       "      <td>4</td>\n",
       "      <td>2</td>\n",
       "      <td>1</td>\n",
       "      <td>2025</td>\n",
       "      <td>250.1525</td>\n",
       "      <td>0.0</td>\n",
       "    </tr>\n",
       "    <tr>\n",
       "      <th>224</th>\n",
       "      <td>4</td>\n",
       "      <td>3</td>\n",
       "      <td>2</td>\n",
       "      <td>2025</td>\n",
       "      <td>289.4925</td>\n",
       "      <td>0.0</td>\n",
       "    </tr>\n",
       "    <tr>\n",
       "      <th>225</th>\n",
       "      <td>4</td>\n",
       "      <td>3</td>\n",
       "      <td>3</td>\n",
       "      <td>2025</td>\n",
       "      <td>188.7625</td>\n",
       "      <td>0.0</td>\n",
       "    </tr>\n",
       "    <tr>\n",
       "      <th>226</th>\n",
       "      <td>4</td>\n",
       "      <td>3</td>\n",
       "      <td>4</td>\n",
       "      <td>2025</td>\n",
       "      <td>216.0375</td>\n",
       "      <td>0.0</td>\n",
       "    </tr>\n",
       "    <tr>\n",
       "      <th>227</th>\n",
       "      <td>4</td>\n",
       "      <td>3</td>\n",
       "      <td>5</td>\n",
       "      <td>2025</td>\n",
       "      <td>139.9775</td>\n",
       "      <td>0.0</td>\n",
       "    </tr>\n",
       "    <tr>\n",
       "      <th>280</th>\n",
       "      <td>5</td>\n",
       "      <td>2</td>\n",
       "      <td>1</td>\n",
       "      <td>2025</td>\n",
       "      <td>135.2225</td>\n",
       "      <td>0.0</td>\n",
       "    </tr>\n",
       "    <tr>\n",
       "      <th>281</th>\n",
       "      <td>5</td>\n",
       "      <td>3</td>\n",
       "      <td>2</td>\n",
       "      <td>2025</td>\n",
       "      <td>114.8400</td>\n",
       "      <td>0.0</td>\n",
       "    </tr>\n",
       "    <tr>\n",
       "      <th>282</th>\n",
       "      <td>5</td>\n",
       "      <td>3</td>\n",
       "      <td>3</td>\n",
       "      <td>2025</td>\n",
       "      <td>125.6800</td>\n",
       "      <td>0.0</td>\n",
       "    </tr>\n",
       "    <tr>\n",
       "      <th>283</th>\n",
       "      <td>5</td>\n",
       "      <td>3</td>\n",
       "      <td>4</td>\n",
       "      <td>2025</td>\n",
       "      <td>122.9750</td>\n",
       "      <td>0.0</td>\n",
       "    </tr>\n",
       "    <tr>\n",
       "      <th>284</th>\n",
       "      <td>5</td>\n",
       "      <td>3</td>\n",
       "      <td>5</td>\n",
       "      <td>2025</td>\n",
       "      <td>88.1975</td>\n",
       "      <td>0.0</td>\n",
       "    </tr>\n",
       "  </tbody>\n",
       "</table>\n",
       "</div>"
      ],
      "text/plain": [
       "     DEP  Semester  Month  Year     Hours  Money Spent\n",
       "52     1         2      1  2025  896.5525          0.0\n",
       "53     1         3      2  2025  797.3625          0.0\n",
       "54     1         3      3  2025  839.6650          0.0\n",
       "55     1         3      4  2025  756.6600          0.0\n",
       "56     1         3      5  2025  665.7075          0.0\n",
       "109    2         2      1  2025  701.2000          0.0\n",
       "110    2         3      2  2025  747.4500          0.0\n",
       "111    2         3      3  2025  613.3475          0.0\n",
       "112    2         3      4  2025  536.5900          0.0\n",
       "113    2         3      5  2025  451.1075          0.0\n",
       "166    3         2      1  2025  413.3500          0.0\n",
       "167    3         3      2  2025  463.9400          0.0\n",
       "168    3         3      3  2025  375.0825          0.0\n",
       "169    3         3      4  2025  450.8175          0.0\n",
       "170    3         3      5  2025  263.9150          0.0\n",
       "223    4         2      1  2025  250.1525          0.0\n",
       "224    4         3      2  2025  289.4925          0.0\n",
       "225    4         3      3  2025  188.7625          0.0\n",
       "226    4         3      4  2025  216.0375          0.0\n",
       "227    4         3      5  2025  139.9775          0.0\n",
       "280    5         2      1  2025  135.2225          0.0\n",
       "281    5         3      2  2025  114.8400          0.0\n",
       "282    5         3      3  2025  125.6800          0.0\n",
       "283    5         3      4  2025  122.9750          0.0\n",
       "284    5         3      5  2025   88.1975          0.0"
      ]
     },
     "execution_count": 262,
     "metadata": {},
     "output_type": "execute_result"
    }
   ],
   "source": [
    "df_2025 = linear_data[linear_data['Year'] == 2025]\n",
    "df_2025\n"
   ]
  },
  {
   "cell_type": "code",
   "execution_count": 263,
   "metadata": {},
   "outputs": [
    {
     "data": {
      "text/html": [
       "<div>\n",
       "<style scoped>\n",
       "    .dataframe tbody tr th:only-of-type {\n",
       "        vertical-align: middle;\n",
       "    }\n",
       "\n",
       "    .dataframe tbody tr th {\n",
       "        vertical-align: top;\n",
       "    }\n",
       "\n",
       "    .dataframe thead th {\n",
       "        text-align: right;\n",
       "    }\n",
       "</style>\n",
       "<table border=\"1\" class=\"dataframe\">\n",
       "  <thead>\n",
       "    <tr style=\"text-align: right;\">\n",
       "      <th></th>\n",
       "      <th>DEP</th>\n",
       "      <th>Semester</th>\n",
       "      <th>Month</th>\n",
       "      <th>Year</th>\n",
       "      <th>Hours</th>\n",
       "      <th>Money Spent</th>\n",
       "    </tr>\n",
       "  </thead>\n",
       "  <tbody>\n",
       "    <tr>\n",
       "      <th>40</th>\n",
       "      <td>1</td>\n",
       "      <td>2</td>\n",
       "      <td>1</td>\n",
       "      <td>2024</td>\n",
       "      <td>948.630000</td>\n",
       "      <td>8774.8275</td>\n",
       "    </tr>\n",
       "    <tr>\n",
       "      <th>41</th>\n",
       "      <td>1</td>\n",
       "      <td>3</td>\n",
       "      <td>2</td>\n",
       "      <td>2024</td>\n",
       "      <td>1057.590000</td>\n",
       "      <td>9782.7075</td>\n",
       "    </tr>\n",
       "    <tr>\n",
       "      <th>42</th>\n",
       "      <td>1</td>\n",
       "      <td>3</td>\n",
       "      <td>3</td>\n",
       "      <td>2024</td>\n",
       "      <td>694.670000</td>\n",
       "      <td>6425.6975</td>\n",
       "    </tr>\n",
       "    <tr>\n",
       "      <th>43</th>\n",
       "      <td>1</td>\n",
       "      <td>3</td>\n",
       "      <td>4</td>\n",
       "      <td>2024</td>\n",
       "      <td>1065.520000</td>\n",
       "      <td>9856.0600</td>\n",
       "    </tr>\n",
       "    <tr>\n",
       "      <th>44</th>\n",
       "      <td>1</td>\n",
       "      <td>3</td>\n",
       "      <td>5</td>\n",
       "      <td>2024</td>\n",
       "      <td>418.670000</td>\n",
       "      <td>3872.6975</td>\n",
       "    </tr>\n",
       "    <tr>\n",
       "      <th>45</th>\n",
       "      <td>1</td>\n",
       "      <td>4</td>\n",
       "      <td>6</td>\n",
       "      <td>2024</td>\n",
       "      <td>0.000000</td>\n",
       "      <td>0.0000</td>\n",
       "    </tr>\n",
       "    <tr>\n",
       "      <th>46</th>\n",
       "      <td>1</td>\n",
       "      <td>4</td>\n",
       "      <td>7</td>\n",
       "      <td>2024</td>\n",
       "      <td>0.000000</td>\n",
       "      <td>0.0000</td>\n",
       "    </tr>\n",
       "    <tr>\n",
       "      <th>47</th>\n",
       "      <td>1</td>\n",
       "      <td>4</td>\n",
       "      <td>8</td>\n",
       "      <td>2024</td>\n",
       "      <td>0.000000</td>\n",
       "      <td>0.0000</td>\n",
       "    </tr>\n",
       "    <tr>\n",
       "      <th>48</th>\n",
       "      <td>1</td>\n",
       "      <td>1</td>\n",
       "      <td>9</td>\n",
       "      <td>2024</td>\n",
       "      <td>1461.137500</td>\n",
       "      <td>0.0000</td>\n",
       "    </tr>\n",
       "    <tr>\n",
       "      <th>49</th>\n",
       "      <td>1</td>\n",
       "      <td>1</td>\n",
       "      <td>10</td>\n",
       "      <td>2024</td>\n",
       "      <td>1461.137500</td>\n",
       "      <td>0.0000</td>\n",
       "    </tr>\n",
       "    <tr>\n",
       "      <th>50</th>\n",
       "      <td>1</td>\n",
       "      <td>1</td>\n",
       "      <td>11</td>\n",
       "      <td>2024</td>\n",
       "      <td>956.562500</td>\n",
       "      <td>0.0000</td>\n",
       "    </tr>\n",
       "    <tr>\n",
       "      <th>51</th>\n",
       "      <td>1</td>\n",
       "      <td>1</td>\n",
       "      <td>12</td>\n",
       "      <td>2024</td>\n",
       "      <td>993.367500</td>\n",
       "      <td>0.0000</td>\n",
       "    </tr>\n",
       "    <tr>\n",
       "      <th>97</th>\n",
       "      <td>2</td>\n",
       "      <td>2</td>\n",
       "      <td>1</td>\n",
       "      <td>2024</td>\n",
       "      <td>683.680000</td>\n",
       "      <td>6324.0400</td>\n",
       "    </tr>\n",
       "    <tr>\n",
       "      <th>98</th>\n",
       "      <td>2</td>\n",
       "      <td>3</td>\n",
       "      <td>2</td>\n",
       "      <td>2024</td>\n",
       "      <td>896.310000</td>\n",
       "      <td>8290.8675</td>\n",
       "    </tr>\n",
       "    <tr>\n",
       "      <th>99</th>\n",
       "      <td>2</td>\n",
       "      <td>3</td>\n",
       "      <td>3</td>\n",
       "      <td>2024</td>\n",
       "      <td>540.880000</td>\n",
       "      <td>5003.1400</td>\n",
       "    </tr>\n",
       "    <tr>\n",
       "      <th>100</th>\n",
       "      <td>2</td>\n",
       "      <td>3</td>\n",
       "      <td>4</td>\n",
       "      <td>2024</td>\n",
       "      <td>847.780000</td>\n",
       "      <td>7841.9650</td>\n",
       "    </tr>\n",
       "    <tr>\n",
       "      <th>101</th>\n",
       "      <td>2</td>\n",
       "      <td>3</td>\n",
       "      <td>5</td>\n",
       "      <td>2024</td>\n",
       "      <td>330.860000</td>\n",
       "      <td>3060.4550</td>\n",
       "    </tr>\n",
       "    <tr>\n",
       "      <th>102</th>\n",
       "      <td>2</td>\n",
       "      <td>4</td>\n",
       "      <td>6</td>\n",
       "      <td>2024</td>\n",
       "      <td>0.000000</td>\n",
       "      <td>0.0000</td>\n",
       "    </tr>\n",
       "    <tr>\n",
       "      <th>103</th>\n",
       "      <td>2</td>\n",
       "      <td>4</td>\n",
       "      <td>7</td>\n",
       "      <td>2024</td>\n",
       "      <td>0.000000</td>\n",
       "      <td>0.0000</td>\n",
       "    </tr>\n",
       "    <tr>\n",
       "      <th>104</th>\n",
       "      <td>2</td>\n",
       "      <td>4</td>\n",
       "      <td>8</td>\n",
       "      <td>2024</td>\n",
       "      <td>0.000000</td>\n",
       "      <td>0.0000</td>\n",
       "    </tr>\n",
       "    <tr>\n",
       "      <th>105</th>\n",
       "      <td>2</td>\n",
       "      <td>1</td>\n",
       "      <td>9</td>\n",
       "      <td>2024</td>\n",
       "      <td>1170.652500</td>\n",
       "      <td>0.0000</td>\n",
       "    </tr>\n",
       "    <tr>\n",
       "      <th>106</th>\n",
       "      <td>2</td>\n",
       "      <td>1</td>\n",
       "      <td>10</td>\n",
       "      <td>2024</td>\n",
       "      <td>1082.915000</td>\n",
       "      <td>0.0000</td>\n",
       "    </tr>\n",
       "    <tr>\n",
       "      <th>107</th>\n",
       "      <td>2</td>\n",
       "      <td>1</td>\n",
       "      <td>11</td>\n",
       "      <td>2024</td>\n",
       "      <td>590.892500</td>\n",
       "      <td>0.0000</td>\n",
       "    </tr>\n",
       "    <tr>\n",
       "      <th>108</th>\n",
       "      <td>2</td>\n",
       "      <td>1</td>\n",
       "      <td>12</td>\n",
       "      <td>2024</td>\n",
       "      <td>459.155000</td>\n",
       "      <td>0.0000</td>\n",
       "    </tr>\n",
       "    <tr>\n",
       "      <th>154</th>\n",
       "      <td>3</td>\n",
       "      <td>2</td>\n",
       "      <td>1</td>\n",
       "      <td>2024</td>\n",
       "      <td>276.180000</td>\n",
       "      <td>2554.6650</td>\n",
       "    </tr>\n",
       "    <tr>\n",
       "      <th>155</th>\n",
       "      <td>3</td>\n",
       "      <td>3</td>\n",
       "      <td>2</td>\n",
       "      <td>2024</td>\n",
       "      <td>495.020000</td>\n",
       "      <td>4578.9350</td>\n",
       "    </tr>\n",
       "    <tr>\n",
       "      <th>156</th>\n",
       "      <td>3</td>\n",
       "      <td>3</td>\n",
       "      <td>3</td>\n",
       "      <td>2024</td>\n",
       "      <td>321.530000</td>\n",
       "      <td>2974.1525</td>\n",
       "    </tr>\n",
       "    <tr>\n",
       "      <th>157</th>\n",
       "      <td>3</td>\n",
       "      <td>3</td>\n",
       "      <td>4</td>\n",
       "      <td>2024</td>\n",
       "      <td>426.840000</td>\n",
       "      <td>3948.2700</td>\n",
       "    </tr>\n",
       "    <tr>\n",
       "      <th>158</th>\n",
       "      <td>3</td>\n",
       "      <td>3</td>\n",
       "      <td>5</td>\n",
       "      <td>2024</td>\n",
       "      <td>207.120000</td>\n",
       "      <td>1915.8600</td>\n",
       "    </tr>\n",
       "    <tr>\n",
       "      <th>159</th>\n",
       "      <td>3</td>\n",
       "      <td>4</td>\n",
       "      <td>6</td>\n",
       "      <td>2024</td>\n",
       "      <td>0.000000</td>\n",
       "      <td>0.0000</td>\n",
       "    </tr>\n",
       "    <tr>\n",
       "      <th>160</th>\n",
       "      <td>3</td>\n",
       "      <td>4</td>\n",
       "      <td>7</td>\n",
       "      <td>2024</td>\n",
       "      <td>0.000000</td>\n",
       "      <td>0.0000</td>\n",
       "    </tr>\n",
       "    <tr>\n",
       "      <th>161</th>\n",
       "      <td>3</td>\n",
       "      <td>4</td>\n",
       "      <td>8</td>\n",
       "      <td>2024</td>\n",
       "      <td>0.000000</td>\n",
       "      <td>0.0000</td>\n",
       "    </tr>\n",
       "    <tr>\n",
       "      <th>162</th>\n",
       "      <td>3</td>\n",
       "      <td>1</td>\n",
       "      <td>9</td>\n",
       "      <td>2024</td>\n",
       "      <td>634.737500</td>\n",
       "      <td>0.0000</td>\n",
       "    </tr>\n",
       "    <tr>\n",
       "      <th>163</th>\n",
       "      <td>3</td>\n",
       "      <td>1</td>\n",
       "      <td>10</td>\n",
       "      <td>2024</td>\n",
       "      <td>589.625000</td>\n",
       "      <td>0.0000</td>\n",
       "    </tr>\n",
       "    <tr>\n",
       "      <th>164</th>\n",
       "      <td>3</td>\n",
       "      <td>1</td>\n",
       "      <td>11</td>\n",
       "      <td>2024</td>\n",
       "      <td>382.702500</td>\n",
       "      <td>0.0000</td>\n",
       "    </tr>\n",
       "    <tr>\n",
       "      <th>165</th>\n",
       "      <td>3</td>\n",
       "      <td>1</td>\n",
       "      <td>12</td>\n",
       "      <td>2024</td>\n",
       "      <td>310.885000</td>\n",
       "      <td>0.0000</td>\n",
       "    </tr>\n",
       "    <tr>\n",
       "      <th>211</th>\n",
       "      <td>4</td>\n",
       "      <td>2</td>\n",
       "      <td>1</td>\n",
       "      <td>2024</td>\n",
       "      <td>198.520000</td>\n",
       "      <td>1836.3100</td>\n",
       "    </tr>\n",
       "    <tr>\n",
       "      <th>212</th>\n",
       "      <td>4</td>\n",
       "      <td>3</td>\n",
       "      <td>2</td>\n",
       "      <td>2024</td>\n",
       "      <td>261.430000</td>\n",
       "      <td>2418.2275</td>\n",
       "    </tr>\n",
       "    <tr>\n",
       "      <th>213</th>\n",
       "      <td>4</td>\n",
       "      <td>3</td>\n",
       "      <td>3</td>\n",
       "      <td>2024</td>\n",
       "      <td>142.900000</td>\n",
       "      <td>1321.8250</td>\n",
       "    </tr>\n",
       "    <tr>\n",
       "      <th>214</th>\n",
       "      <td>4</td>\n",
       "      <td>3</td>\n",
       "      <td>4</td>\n",
       "      <td>2024</td>\n",
       "      <td>203.570000</td>\n",
       "      <td>1883.0225</td>\n",
       "    </tr>\n",
       "    <tr>\n",
       "      <th>215</th>\n",
       "      <td>4</td>\n",
       "      <td>3</td>\n",
       "      <td>5</td>\n",
       "      <td>2024</td>\n",
       "      <td>90.840000</td>\n",
       "      <td>840.2700</td>\n",
       "    </tr>\n",
       "    <tr>\n",
       "      <th>216</th>\n",
       "      <td>4</td>\n",
       "      <td>4</td>\n",
       "      <td>6</td>\n",
       "      <td>2024</td>\n",
       "      <td>0.000000</td>\n",
       "      <td>0.0000</td>\n",
       "    </tr>\n",
       "    <tr>\n",
       "      <th>217</th>\n",
       "      <td>4</td>\n",
       "      <td>4</td>\n",
       "      <td>7</td>\n",
       "      <td>2024</td>\n",
       "      <td>0.000000</td>\n",
       "      <td>0.0000</td>\n",
       "    </tr>\n",
       "    <tr>\n",
       "      <th>218</th>\n",
       "      <td>4</td>\n",
       "      <td>4</td>\n",
       "      <td>8</td>\n",
       "      <td>2024</td>\n",
       "      <td>0.000000</td>\n",
       "      <td>0.0000</td>\n",
       "    </tr>\n",
       "    <tr>\n",
       "      <th>219</th>\n",
       "      <td>4</td>\n",
       "      <td>1</td>\n",
       "      <td>9</td>\n",
       "      <td>2024</td>\n",
       "      <td>431.932500</td>\n",
       "      <td>0.0000</td>\n",
       "    </tr>\n",
       "    <tr>\n",
       "      <th>220</th>\n",
       "      <td>4</td>\n",
       "      <td>1</td>\n",
       "      <td>10</td>\n",
       "      <td>2024</td>\n",
       "      <td>326.727500</td>\n",
       "      <td>0.0000</td>\n",
       "    </tr>\n",
       "    <tr>\n",
       "      <th>221</th>\n",
       "      <td>4</td>\n",
       "      <td>1</td>\n",
       "      <td>11</td>\n",
       "      <td>2024</td>\n",
       "      <td>339.545000</td>\n",
       "      <td>0.0000</td>\n",
       "    </tr>\n",
       "    <tr>\n",
       "      <th>222</th>\n",
       "      <td>4</td>\n",
       "      <td>1</td>\n",
       "      <td>12</td>\n",
       "      <td>2024</td>\n",
       "      <td>251.555000</td>\n",
       "      <td>0.0000</td>\n",
       "    </tr>\n",
       "    <tr>\n",
       "      <th>268</th>\n",
       "      <td>5</td>\n",
       "      <td>2</td>\n",
       "      <td>1</td>\n",
       "      <td>2024</td>\n",
       "      <td>30.890000</td>\n",
       "      <td>285.7325</td>\n",
       "    </tr>\n",
       "    <tr>\n",
       "      <th>269</th>\n",
       "      <td>5</td>\n",
       "      <td>3</td>\n",
       "      <td>2</td>\n",
       "      <td>2024</td>\n",
       "      <td>109.630000</td>\n",
       "      <td>1014.0775</td>\n",
       "    </tr>\n",
       "    <tr>\n",
       "      <th>270</th>\n",
       "      <td>5</td>\n",
       "      <td>3</td>\n",
       "      <td>3</td>\n",
       "      <td>2024</td>\n",
       "      <td>87.050000</td>\n",
       "      <td>805.2125</td>\n",
       "    </tr>\n",
       "    <tr>\n",
       "      <th>271</th>\n",
       "      <td>5</td>\n",
       "      <td>3</td>\n",
       "      <td>4</td>\n",
       "      <td>2024</td>\n",
       "      <td>119.090000</td>\n",
       "      <td>1101.5825</td>\n",
       "    </tr>\n",
       "    <tr>\n",
       "      <th>272</th>\n",
       "      <td>5</td>\n",
       "      <td>3</td>\n",
       "      <td>5</td>\n",
       "      <td>2024</td>\n",
       "      <td>58.380000</td>\n",
       "      <td>540.0150</td>\n",
       "    </tr>\n",
       "    <tr>\n",
       "      <th>273</th>\n",
       "      <td>5</td>\n",
       "      <td>4</td>\n",
       "      <td>6</td>\n",
       "      <td>2024</td>\n",
       "      <td>0.000000</td>\n",
       "      <td>0.0000</td>\n",
       "    </tr>\n",
       "    <tr>\n",
       "      <th>274</th>\n",
       "      <td>5</td>\n",
       "      <td>4</td>\n",
       "      <td>7</td>\n",
       "      <td>2024</td>\n",
       "      <td>0.000000</td>\n",
       "      <td>0.0000</td>\n",
       "    </tr>\n",
       "    <tr>\n",
       "      <th>275</th>\n",
       "      <td>5</td>\n",
       "      <td>4</td>\n",
       "      <td>8</td>\n",
       "      <td>2024</td>\n",
       "      <td>0.000000</td>\n",
       "      <td>0.0000</td>\n",
       "    </tr>\n",
       "    <tr>\n",
       "      <th>276</th>\n",
       "      <td>5</td>\n",
       "      <td>1</td>\n",
       "      <td>9</td>\n",
       "      <td>2024</td>\n",
       "      <td>255.553333</td>\n",
       "      <td>0.0000</td>\n",
       "    </tr>\n",
       "    <tr>\n",
       "      <th>277</th>\n",
       "      <td>5</td>\n",
       "      <td>1</td>\n",
       "      <td>10</td>\n",
       "      <td>2024</td>\n",
       "      <td>256.977917</td>\n",
       "      <td>0.0000</td>\n",
       "    </tr>\n",
       "    <tr>\n",
       "      <th>278</th>\n",
       "      <td>5</td>\n",
       "      <td>1</td>\n",
       "      <td>11</td>\n",
       "      <td>2024</td>\n",
       "      <td>173.525000</td>\n",
       "      <td>0.0000</td>\n",
       "    </tr>\n",
       "    <tr>\n",
       "      <th>279</th>\n",
       "      <td>5</td>\n",
       "      <td>1</td>\n",
       "      <td>12</td>\n",
       "      <td>2024</td>\n",
       "      <td>180.673750</td>\n",
       "      <td>0.0000</td>\n",
       "    </tr>\n",
       "  </tbody>\n",
       "</table>\n",
       "</div>"
      ],
      "text/plain": [
       "     DEP  Semester  Month  Year        Hours  Money Spent\n",
       "40     1         2      1  2024   948.630000    8774.8275\n",
       "41     1         3      2  2024  1057.590000    9782.7075\n",
       "42     1         3      3  2024   694.670000    6425.6975\n",
       "43     1         3      4  2024  1065.520000    9856.0600\n",
       "44     1         3      5  2024   418.670000    3872.6975\n",
       "45     1         4      6  2024     0.000000       0.0000\n",
       "46     1         4      7  2024     0.000000       0.0000\n",
       "47     1         4      8  2024     0.000000       0.0000\n",
       "48     1         1      9  2024  1461.137500       0.0000\n",
       "49     1         1     10  2024  1461.137500       0.0000\n",
       "50     1         1     11  2024   956.562500       0.0000\n",
       "51     1         1     12  2024   993.367500       0.0000\n",
       "97     2         2      1  2024   683.680000    6324.0400\n",
       "98     2         3      2  2024   896.310000    8290.8675\n",
       "99     2         3      3  2024   540.880000    5003.1400\n",
       "100    2         3      4  2024   847.780000    7841.9650\n",
       "101    2         3      5  2024   330.860000    3060.4550\n",
       "102    2         4      6  2024     0.000000       0.0000\n",
       "103    2         4      7  2024     0.000000       0.0000\n",
       "104    2         4      8  2024     0.000000       0.0000\n",
       "105    2         1      9  2024  1170.652500       0.0000\n",
       "106    2         1     10  2024  1082.915000       0.0000\n",
       "107    2         1     11  2024   590.892500       0.0000\n",
       "108    2         1     12  2024   459.155000       0.0000\n",
       "154    3         2      1  2024   276.180000    2554.6650\n",
       "155    3         3      2  2024   495.020000    4578.9350\n",
       "156    3         3      3  2024   321.530000    2974.1525\n",
       "157    3         3      4  2024   426.840000    3948.2700\n",
       "158    3         3      5  2024   207.120000    1915.8600\n",
       "159    3         4      6  2024     0.000000       0.0000\n",
       "160    3         4      7  2024     0.000000       0.0000\n",
       "161    3         4      8  2024     0.000000       0.0000\n",
       "162    3         1      9  2024   634.737500       0.0000\n",
       "163    3         1     10  2024   589.625000       0.0000\n",
       "164    3         1     11  2024   382.702500       0.0000\n",
       "165    3         1     12  2024   310.885000       0.0000\n",
       "211    4         2      1  2024   198.520000    1836.3100\n",
       "212    4         3      2  2024   261.430000    2418.2275\n",
       "213    4         3      3  2024   142.900000    1321.8250\n",
       "214    4         3      4  2024   203.570000    1883.0225\n",
       "215    4         3      5  2024    90.840000     840.2700\n",
       "216    4         4      6  2024     0.000000       0.0000\n",
       "217    4         4      7  2024     0.000000       0.0000\n",
       "218    4         4      8  2024     0.000000       0.0000\n",
       "219    4         1      9  2024   431.932500       0.0000\n",
       "220    4         1     10  2024   326.727500       0.0000\n",
       "221    4         1     11  2024   339.545000       0.0000\n",
       "222    4         1     12  2024   251.555000       0.0000\n",
       "268    5         2      1  2024    30.890000     285.7325\n",
       "269    5         3      2  2024   109.630000    1014.0775\n",
       "270    5         3      3  2024    87.050000     805.2125\n",
       "271    5         3      4  2024   119.090000    1101.5825\n",
       "272    5         3      5  2024    58.380000     540.0150\n",
       "273    5         4      6  2024     0.000000       0.0000\n",
       "274    5         4      7  2024     0.000000       0.0000\n",
       "275    5         4      8  2024     0.000000       0.0000\n",
       "276    5         1      9  2024   255.553333       0.0000\n",
       "277    5         1     10  2024   256.977917       0.0000\n",
       "278    5         1     11  2024   173.525000       0.0000\n",
       "279    5         1     12  2024   180.673750       0.0000"
      ]
     },
     "execution_count": 263,
     "metadata": {},
     "output_type": "execute_result"
    }
   ],
   "source": [
    "df_2024 = linear_data[linear_data['Year'] == 2024]\n",
    "df_2024"
   ]
  },
  {
   "cell_type": "code",
   "execution_count": 264,
   "metadata": {},
   "outputs": [
    {
     "data": {
      "text/html": [
       "<div>\n",
       "<style scoped>\n",
       "    .dataframe tbody tr th:only-of-type {\n",
       "        vertical-align: middle;\n",
       "    }\n",
       "\n",
       "    .dataframe tbody tr th {\n",
       "        vertical-align: top;\n",
       "    }\n",
       "\n",
       "    .dataframe thead th {\n",
       "        text-align: right;\n",
       "    }\n",
       "</style>\n",
       "<table border=\"1\" class=\"dataframe\">\n",
       "  <thead>\n",
       "    <tr style=\"text-align: right;\">\n",
       "      <th></th>\n",
       "      <th>DEP</th>\n",
       "      <th>Semester</th>\n",
       "      <th>Month</th>\n",
       "      <th>Year</th>\n",
       "      <th>Hours</th>\n",
       "      <th>Money Spent</th>\n",
       "    </tr>\n",
       "  </thead>\n",
       "  <tbody>\n",
       "    <tr>\n",
       "      <th>52</th>\n",
       "      <td>1</td>\n",
       "      <td>2</td>\n",
       "      <td>1</td>\n",
       "      <td>2025</td>\n",
       "      <td>896.5525</td>\n",
       "      <td>0.0</td>\n",
       "    </tr>\n",
       "    <tr>\n",
       "      <th>53</th>\n",
       "      <td>1</td>\n",
       "      <td>3</td>\n",
       "      <td>2</td>\n",
       "      <td>2025</td>\n",
       "      <td>797.3625</td>\n",
       "      <td>0.0</td>\n",
       "    </tr>\n",
       "    <tr>\n",
       "      <th>54</th>\n",
       "      <td>1</td>\n",
       "      <td>3</td>\n",
       "      <td>3</td>\n",
       "      <td>2025</td>\n",
       "      <td>839.6650</td>\n",
       "      <td>0.0</td>\n",
       "    </tr>\n",
       "    <tr>\n",
       "      <th>55</th>\n",
       "      <td>1</td>\n",
       "      <td>3</td>\n",
       "      <td>4</td>\n",
       "      <td>2025</td>\n",
       "      <td>756.6600</td>\n",
       "      <td>0.0</td>\n",
       "    </tr>\n",
       "    <tr>\n",
       "      <th>56</th>\n",
       "      <td>1</td>\n",
       "      <td>3</td>\n",
       "      <td>5</td>\n",
       "      <td>2025</td>\n",
       "      <td>665.7075</td>\n",
       "      <td>0.0</td>\n",
       "    </tr>\n",
       "    <tr>\n",
       "      <th>109</th>\n",
       "      <td>2</td>\n",
       "      <td>2</td>\n",
       "      <td>1</td>\n",
       "      <td>2025</td>\n",
       "      <td>701.2000</td>\n",
       "      <td>0.0</td>\n",
       "    </tr>\n",
       "    <tr>\n",
       "      <th>110</th>\n",
       "      <td>2</td>\n",
       "      <td>3</td>\n",
       "      <td>2</td>\n",
       "      <td>2025</td>\n",
       "      <td>747.4500</td>\n",
       "      <td>0.0</td>\n",
       "    </tr>\n",
       "    <tr>\n",
       "      <th>111</th>\n",
       "      <td>2</td>\n",
       "      <td>3</td>\n",
       "      <td>3</td>\n",
       "      <td>2025</td>\n",
       "      <td>613.3475</td>\n",
       "      <td>0.0</td>\n",
       "    </tr>\n",
       "    <tr>\n",
       "      <th>112</th>\n",
       "      <td>2</td>\n",
       "      <td>3</td>\n",
       "      <td>4</td>\n",
       "      <td>2025</td>\n",
       "      <td>536.5900</td>\n",
       "      <td>0.0</td>\n",
       "    </tr>\n",
       "    <tr>\n",
       "      <th>113</th>\n",
       "      <td>2</td>\n",
       "      <td>3</td>\n",
       "      <td>5</td>\n",
       "      <td>2025</td>\n",
       "      <td>451.1075</td>\n",
       "      <td>0.0</td>\n",
       "    </tr>\n",
       "    <tr>\n",
       "      <th>166</th>\n",
       "      <td>3</td>\n",
       "      <td>2</td>\n",
       "      <td>1</td>\n",
       "      <td>2025</td>\n",
       "      <td>413.3500</td>\n",
       "      <td>0.0</td>\n",
       "    </tr>\n",
       "    <tr>\n",
       "      <th>167</th>\n",
       "      <td>3</td>\n",
       "      <td>3</td>\n",
       "      <td>2</td>\n",
       "      <td>2025</td>\n",
       "      <td>463.9400</td>\n",
       "      <td>0.0</td>\n",
       "    </tr>\n",
       "    <tr>\n",
       "      <th>168</th>\n",
       "      <td>3</td>\n",
       "      <td>3</td>\n",
       "      <td>3</td>\n",
       "      <td>2025</td>\n",
       "      <td>375.0825</td>\n",
       "      <td>0.0</td>\n",
       "    </tr>\n",
       "    <tr>\n",
       "      <th>169</th>\n",
       "      <td>3</td>\n",
       "      <td>3</td>\n",
       "      <td>4</td>\n",
       "      <td>2025</td>\n",
       "      <td>450.8175</td>\n",
       "      <td>0.0</td>\n",
       "    </tr>\n",
       "    <tr>\n",
       "      <th>170</th>\n",
       "      <td>3</td>\n",
       "      <td>3</td>\n",
       "      <td>5</td>\n",
       "      <td>2025</td>\n",
       "      <td>263.9150</td>\n",
       "      <td>0.0</td>\n",
       "    </tr>\n",
       "    <tr>\n",
       "      <th>223</th>\n",
       "      <td>4</td>\n",
       "      <td>2</td>\n",
       "      <td>1</td>\n",
       "      <td>2025</td>\n",
       "      <td>250.1525</td>\n",
       "      <td>0.0</td>\n",
       "    </tr>\n",
       "    <tr>\n",
       "      <th>224</th>\n",
       "      <td>4</td>\n",
       "      <td>3</td>\n",
       "      <td>2</td>\n",
       "      <td>2025</td>\n",
       "      <td>289.4925</td>\n",
       "      <td>0.0</td>\n",
       "    </tr>\n",
       "    <tr>\n",
       "      <th>225</th>\n",
       "      <td>4</td>\n",
       "      <td>3</td>\n",
       "      <td>3</td>\n",
       "      <td>2025</td>\n",
       "      <td>188.7625</td>\n",
       "      <td>0.0</td>\n",
       "    </tr>\n",
       "    <tr>\n",
       "      <th>226</th>\n",
       "      <td>4</td>\n",
       "      <td>3</td>\n",
       "      <td>4</td>\n",
       "      <td>2025</td>\n",
       "      <td>216.0375</td>\n",
       "      <td>0.0</td>\n",
       "    </tr>\n",
       "    <tr>\n",
       "      <th>227</th>\n",
       "      <td>4</td>\n",
       "      <td>3</td>\n",
       "      <td>5</td>\n",
       "      <td>2025</td>\n",
       "      <td>139.9775</td>\n",
       "      <td>0.0</td>\n",
       "    </tr>\n",
       "    <tr>\n",
       "      <th>280</th>\n",
       "      <td>5</td>\n",
       "      <td>2</td>\n",
       "      <td>1</td>\n",
       "      <td>2025</td>\n",
       "      <td>135.2225</td>\n",
       "      <td>0.0</td>\n",
       "    </tr>\n",
       "    <tr>\n",
       "      <th>281</th>\n",
       "      <td>5</td>\n",
       "      <td>3</td>\n",
       "      <td>2</td>\n",
       "      <td>2025</td>\n",
       "      <td>114.8400</td>\n",
       "      <td>0.0</td>\n",
       "    </tr>\n",
       "    <tr>\n",
       "      <th>282</th>\n",
       "      <td>5</td>\n",
       "      <td>3</td>\n",
       "      <td>3</td>\n",
       "      <td>2025</td>\n",
       "      <td>125.6800</td>\n",
       "      <td>0.0</td>\n",
       "    </tr>\n",
       "    <tr>\n",
       "      <th>283</th>\n",
       "      <td>5</td>\n",
       "      <td>3</td>\n",
       "      <td>4</td>\n",
       "      <td>2025</td>\n",
       "      <td>122.9750</td>\n",
       "      <td>0.0</td>\n",
       "    </tr>\n",
       "    <tr>\n",
       "      <th>284</th>\n",
       "      <td>5</td>\n",
       "      <td>3</td>\n",
       "      <td>5</td>\n",
       "      <td>2025</td>\n",
       "      <td>88.1975</td>\n",
       "      <td>0.0</td>\n",
       "    </tr>\n",
       "  </tbody>\n",
       "</table>\n",
       "</div>"
      ],
      "text/plain": [
       "     DEP  Semester  Month  Year     Hours  Money Spent\n",
       "52     1         2      1  2025  896.5525          0.0\n",
       "53     1         3      2  2025  797.3625          0.0\n",
       "54     1         3      3  2025  839.6650          0.0\n",
       "55     1         3      4  2025  756.6600          0.0\n",
       "56     1         3      5  2025  665.7075          0.0\n",
       "109    2         2      1  2025  701.2000          0.0\n",
       "110    2         3      2  2025  747.4500          0.0\n",
       "111    2         3      3  2025  613.3475          0.0\n",
       "112    2         3      4  2025  536.5900          0.0\n",
       "113    2         3      5  2025  451.1075          0.0\n",
       "166    3         2      1  2025  413.3500          0.0\n",
       "167    3         3      2  2025  463.9400          0.0\n",
       "168    3         3      3  2025  375.0825          0.0\n",
       "169    3         3      4  2025  450.8175          0.0\n",
       "170    3         3      5  2025  263.9150          0.0\n",
       "223    4         2      1  2025  250.1525          0.0\n",
       "224    4         3      2  2025  289.4925          0.0\n",
       "225    4         3      3  2025  188.7625          0.0\n",
       "226    4         3      4  2025  216.0375          0.0\n",
       "227    4         3      5  2025  139.9775          0.0\n",
       "280    5         2      1  2025  135.2225          0.0\n",
       "281    5         3      2  2025  114.8400          0.0\n",
       "282    5         3      3  2025  125.6800          0.0\n",
       "283    5         3      4  2025  122.9750          0.0\n",
       "284    5         3      5  2025   88.1975          0.0"
      ]
     },
     "execution_count": 264,
     "metadata": {},
     "output_type": "execute_result"
    }
   ],
   "source": [
    "df_2025 = linear_data[linear_data['Year'] == 2025]\n",
    "df_2025"
   ]
  },
  {
   "cell_type": "code",
   "execution_count": 265,
   "metadata": {},
   "outputs": [],
   "source": [
    "PredictedData = linear_data.copy()\n"
   ]
  },
  {
   "cell_type": "code",
   "execution_count": 266,
   "metadata": {},
   "outputs": [
    {
     "data": {
      "text/html": [
       "<div>\n",
       "<style scoped>\n",
       "    .dataframe tbody tr th:only-of-type {\n",
       "        vertical-align: middle;\n",
       "    }\n",
       "\n",
       "    .dataframe tbody tr th {\n",
       "        vertical-align: top;\n",
       "    }\n",
       "\n",
       "    .dataframe thead th {\n",
       "        text-align: right;\n",
       "    }\n",
       "</style>\n",
       "<table border=\"1\" class=\"dataframe\">\n",
       "  <thead>\n",
       "    <tr style=\"text-align: right;\">\n",
       "      <th></th>\n",
       "      <th>DEP</th>\n",
       "      <th>Semester</th>\n",
       "      <th>Month</th>\n",
       "      <th>Year</th>\n",
       "      <th>Hours</th>\n",
       "      <th>Money Spent</th>\n",
       "    </tr>\n",
       "  </thead>\n",
       "  <tbody>\n",
       "    <tr>\n",
       "      <th>0</th>\n",
       "      <td>1</td>\n",
       "      <td>1</td>\n",
       "      <td>9</td>\n",
       "      <td>2020</td>\n",
       "      <td>3859.9800</td>\n",
       "      <td>31844.8350</td>\n",
       "    </tr>\n",
       "    <tr>\n",
       "      <th>1</th>\n",
       "      <td>1</td>\n",
       "      <td>1</td>\n",
       "      <td>10</td>\n",
       "      <td>2020</td>\n",
       "      <td>4722.9800</td>\n",
       "      <td>38964.5850</td>\n",
       "    </tr>\n",
       "    <tr>\n",
       "      <th>2</th>\n",
       "      <td>1</td>\n",
       "      <td>1</td>\n",
       "      <td>11</td>\n",
       "      <td>2020</td>\n",
       "      <td>2842.6800</td>\n",
       "      <td>23452.1100</td>\n",
       "    </tr>\n",
       "    <tr>\n",
       "      <th>3</th>\n",
       "      <td>1</td>\n",
       "      <td>1</td>\n",
       "      <td>12</td>\n",
       "      <td>2020</td>\n",
       "      <td>1348.5000</td>\n",
       "      <td>11125.1250</td>\n",
       "    </tr>\n",
       "    <tr>\n",
       "      <th>4</th>\n",
       "      <td>1</td>\n",
       "      <td>2</td>\n",
       "      <td>1</td>\n",
       "      <td>2021</td>\n",
       "      <td>2247.9900</td>\n",
       "      <td>18545.9175</td>\n",
       "    </tr>\n",
       "    <tr>\n",
       "      <th>...</th>\n",
       "      <td>...</td>\n",
       "      <td>...</td>\n",
       "      <td>...</td>\n",
       "      <td>...</td>\n",
       "      <td>...</td>\n",
       "      <td>...</td>\n",
       "    </tr>\n",
       "    <tr>\n",
       "      <th>280</th>\n",
       "      <td>5</td>\n",
       "      <td>2</td>\n",
       "      <td>1</td>\n",
       "      <td>2025</td>\n",
       "      <td>135.2225</td>\n",
       "      <td>0.0000</td>\n",
       "    </tr>\n",
       "    <tr>\n",
       "      <th>281</th>\n",
       "      <td>5</td>\n",
       "      <td>3</td>\n",
       "      <td>2</td>\n",
       "      <td>2025</td>\n",
       "      <td>114.8400</td>\n",
       "      <td>0.0000</td>\n",
       "    </tr>\n",
       "    <tr>\n",
       "      <th>282</th>\n",
       "      <td>5</td>\n",
       "      <td>3</td>\n",
       "      <td>3</td>\n",
       "      <td>2025</td>\n",
       "      <td>125.6800</td>\n",
       "      <td>0.0000</td>\n",
       "    </tr>\n",
       "    <tr>\n",
       "      <th>283</th>\n",
       "      <td>5</td>\n",
       "      <td>3</td>\n",
       "      <td>4</td>\n",
       "      <td>2025</td>\n",
       "      <td>122.9750</td>\n",
       "      <td>0.0000</td>\n",
       "    </tr>\n",
       "    <tr>\n",
       "      <th>284</th>\n",
       "      <td>5</td>\n",
       "      <td>3</td>\n",
       "      <td>5</td>\n",
       "      <td>2025</td>\n",
       "      <td>88.1975</td>\n",
       "      <td>0.0000</td>\n",
       "    </tr>\n",
       "  </tbody>\n",
       "</table>\n",
       "<p>285 rows × 6 columns</p>\n",
       "</div>"
      ],
      "text/plain": [
       "     DEP  Semester  Month  Year      Hours  Money Spent\n",
       "0      1         1      9  2020  3859.9800   31844.8350\n",
       "1      1         1     10  2020  4722.9800   38964.5850\n",
       "2      1         1     11  2020  2842.6800   23452.1100\n",
       "3      1         1     12  2020  1348.5000   11125.1250\n",
       "4      1         2      1  2021  2247.9900   18545.9175\n",
       "..   ...       ...    ...   ...        ...          ...\n",
       "280    5         2      1  2025   135.2225       0.0000\n",
       "281    5         3      2  2025   114.8400       0.0000\n",
       "282    5         3      3  2025   125.6800       0.0000\n",
       "283    5         3      4  2025   122.9750       0.0000\n",
       "284    5         3      5  2025    88.1975       0.0000\n",
       "\n",
       "[285 rows x 6 columns]"
      ]
     },
     "execution_count": 266,
     "metadata": {},
     "output_type": "execute_result"
    }
   ],
   "source": [
    "PredictedData"
   ]
  },
  {
   "cell_type": "code",
   "execution_count": 267,
   "metadata": {},
   "outputs": [
    {
     "name": "stdout",
     "output_type": "stream",
     "text": [
      "<class 'pandas.core.frame.DataFrame'>\n",
      "RangeIndex: 285 entries, 0 to 284\n",
      "Data columns (total 6 columns):\n",
      " #   Column       Non-Null Count  Dtype  \n",
      "---  ------       --------------  -----  \n",
      " 0   DEP          285 non-null    int64  \n",
      " 1   Semester     285 non-null    int64  \n",
      " 2   Month        285 non-null    int64  \n",
      " 3   Year         285 non-null    int64  \n",
      " 4   Hours        285 non-null    float64\n",
      " 5   Money Spent  285 non-null    float64\n",
      "dtypes: float64(2), int64(4)\n",
      "memory usage: 13.5 KB\n"
     ]
    }
   ],
   "source": [
    "PredictedData.info()"
   ]
  },
  {
   "cell_type": "code",
   "execution_count": 268,
   "metadata": {},
   "outputs": [
    {
     "data": {
      "text/plain": [
       "DEP            0\n",
       "Semester       0\n",
       "Month          0\n",
       "Year           0\n",
       "Hours          0\n",
       "Money Spent    0\n",
       "dtype: int64"
      ]
     },
     "execution_count": 268,
     "metadata": {},
     "output_type": "execute_result"
    }
   ],
   "source": [
    "missing_values = PredictedData.isnull().sum()\n",
    "missing_values"
   ]
  },
  {
   "cell_type": "code",
   "execution_count": 7,
   "metadata": {},
   "outputs": [
    {
     "data": {
      "text/html": [
       "<div>\n",
       "<style scoped>\n",
       "    .dataframe tbody tr th:only-of-type {\n",
       "        vertical-align: middle;\n",
       "    }\n",
       "\n",
       "    .dataframe tbody tr th {\n",
       "        vertical-align: top;\n",
       "    }\n",
       "\n",
       "    .dataframe thead th {\n",
       "        text-align: right;\n",
       "    }\n",
       "</style>\n",
       "<table border=\"1\" class=\"dataframe\">\n",
       "  <thead>\n",
       "    <tr style=\"text-align: right;\">\n",
       "      <th></th>\n",
       "      <th>DEP</th>\n",
       "      <th>Semester</th>\n",
       "      <th>Month</th>\n",
       "      <th>Academic Year</th>\n",
       "      <th>Hours</th>\n",
       "      <th>Money Spent</th>\n",
       "    </tr>\n",
       "  </thead>\n",
       "  <tbody>\n",
       "    <tr>\n",
       "      <th>0</th>\n",
       "      <td>Res Dining</td>\n",
       "      <td>Fall</td>\n",
       "      <td>Sep</td>\n",
       "      <td>24/25</td>\n",
       "      <td>1461.137500</td>\n",
       "      <td>13515.521875</td>\n",
       "    </tr>\n",
       "    <tr>\n",
       "      <th>1</th>\n",
       "      <td>Res Dining</td>\n",
       "      <td>Fall</td>\n",
       "      <td>Oct</td>\n",
       "      <td>24/25</td>\n",
       "      <td>1461.137500</td>\n",
       "      <td>13515.521875</td>\n",
       "    </tr>\n",
       "    <tr>\n",
       "      <th>2</th>\n",
       "      <td>Res Dining</td>\n",
       "      <td>Fall</td>\n",
       "      <td>Nov</td>\n",
       "      <td>24/25</td>\n",
       "      <td>956.562500</td>\n",
       "      <td>8848.203125</td>\n",
       "    </tr>\n",
       "    <tr>\n",
       "      <th>3</th>\n",
       "      <td>Res Dining</td>\n",
       "      <td>Fall</td>\n",
       "      <td>Dec</td>\n",
       "      <td>24/25</td>\n",
       "      <td>993.367500</td>\n",
       "      <td>9188.649375</td>\n",
       "    </tr>\n",
       "    <tr>\n",
       "      <th>4</th>\n",
       "      <td>Res Dining</td>\n",
       "      <td>J-Term</td>\n",
       "      <td>Jan</td>\n",
       "      <td>24/25</td>\n",
       "      <td>896.552500</td>\n",
       "      <td>8293.110625</td>\n",
       "    </tr>\n",
       "    <tr>\n",
       "      <th>5</th>\n",
       "      <td>Res Dining</td>\n",
       "      <td>Spring</td>\n",
       "      <td>Feb</td>\n",
       "      <td>24/25</td>\n",
       "      <td>797.362500</td>\n",
       "      <td>7375.603125</td>\n",
       "    </tr>\n",
       "    <tr>\n",
       "      <th>6</th>\n",
       "      <td>Res Dining</td>\n",
       "      <td>Spring</td>\n",
       "      <td>Mar</td>\n",
       "      <td>24/25</td>\n",
       "      <td>839.665000</td>\n",
       "      <td>7766.901250</td>\n",
       "    </tr>\n",
       "    <tr>\n",
       "      <th>7</th>\n",
       "      <td>Res Dining</td>\n",
       "      <td>Spring</td>\n",
       "      <td>Apr</td>\n",
       "      <td>24/25</td>\n",
       "      <td>756.660000</td>\n",
       "      <td>6999.105000</td>\n",
       "    </tr>\n",
       "    <tr>\n",
       "      <th>8</th>\n",
       "      <td>Res Dining</td>\n",
       "      <td>Spring</td>\n",
       "      <td>May</td>\n",
       "      <td>24/25</td>\n",
       "      <td>665.707500</td>\n",
       "      <td>6157.794375</td>\n",
       "    </tr>\n",
       "    <tr>\n",
       "      <th>9</th>\n",
       "      <td>Martys</td>\n",
       "      <td>Fall</td>\n",
       "      <td>Sep</td>\n",
       "      <td>24/25</td>\n",
       "      <td>1170.652500</td>\n",
       "      <td>10828.535625</td>\n",
       "    </tr>\n",
       "    <tr>\n",
       "      <th>10</th>\n",
       "      <td>Martys</td>\n",
       "      <td>Fall</td>\n",
       "      <td>Oct</td>\n",
       "      <td>24/25</td>\n",
       "      <td>1082.915000</td>\n",
       "      <td>10016.963750</td>\n",
       "    </tr>\n",
       "    <tr>\n",
       "      <th>11</th>\n",
       "      <td>Martys</td>\n",
       "      <td>Fall</td>\n",
       "      <td>Nov</td>\n",
       "      <td>24/25</td>\n",
       "      <td>590.892500</td>\n",
       "      <td>5465.755625</td>\n",
       "    </tr>\n",
       "    <tr>\n",
       "      <th>12</th>\n",
       "      <td>Martys</td>\n",
       "      <td>Fall</td>\n",
       "      <td>Dec</td>\n",
       "      <td>24/25</td>\n",
       "      <td>459.155000</td>\n",
       "      <td>4247.183750</td>\n",
       "    </tr>\n",
       "    <tr>\n",
       "      <th>13</th>\n",
       "      <td>Martys</td>\n",
       "      <td>J-Term</td>\n",
       "      <td>Jan</td>\n",
       "      <td>24/25</td>\n",
       "      <td>701.200000</td>\n",
       "      <td>6486.100000</td>\n",
       "    </tr>\n",
       "    <tr>\n",
       "      <th>14</th>\n",
       "      <td>Martys</td>\n",
       "      <td>Spring</td>\n",
       "      <td>Feb</td>\n",
       "      <td>24/25</td>\n",
       "      <td>747.450000</td>\n",
       "      <td>6913.912500</td>\n",
       "    </tr>\n",
       "    <tr>\n",
       "      <th>15</th>\n",
       "      <td>Martys</td>\n",
       "      <td>Spring</td>\n",
       "      <td>Mar</td>\n",
       "      <td>24/25</td>\n",
       "      <td>613.347500</td>\n",
       "      <td>5673.464375</td>\n",
       "    </tr>\n",
       "    <tr>\n",
       "      <th>16</th>\n",
       "      <td>Martys</td>\n",
       "      <td>Spring</td>\n",
       "      <td>Apr</td>\n",
       "      <td>24/25</td>\n",
       "      <td>536.590000</td>\n",
       "      <td>4963.457500</td>\n",
       "    </tr>\n",
       "    <tr>\n",
       "      <th>17</th>\n",
       "      <td>Martys</td>\n",
       "      <td>Spring</td>\n",
       "      <td>May</td>\n",
       "      <td>24/25</td>\n",
       "      <td>451.107500</td>\n",
       "      <td>4172.744375</td>\n",
       "    </tr>\n",
       "    <tr>\n",
       "      <th>18</th>\n",
       "      <td>Oneota</td>\n",
       "      <td>Fall</td>\n",
       "      <td>Sep</td>\n",
       "      <td>24/25</td>\n",
       "      <td>634.737500</td>\n",
       "      <td>5871.321875</td>\n",
       "    </tr>\n",
       "    <tr>\n",
       "      <th>19</th>\n",
       "      <td>Oneota</td>\n",
       "      <td>Fall</td>\n",
       "      <td>Oct</td>\n",
       "      <td>24/25</td>\n",
       "      <td>589.625000</td>\n",
       "      <td>5454.031250</td>\n",
       "    </tr>\n",
       "    <tr>\n",
       "      <th>20</th>\n",
       "      <td>Oneota</td>\n",
       "      <td>Fall</td>\n",
       "      <td>Nov</td>\n",
       "      <td>24/25</td>\n",
       "      <td>382.702500</td>\n",
       "      <td>3539.998125</td>\n",
       "    </tr>\n",
       "    <tr>\n",
       "      <th>21</th>\n",
       "      <td>Oneota</td>\n",
       "      <td>Fall</td>\n",
       "      <td>Dec</td>\n",
       "      <td>24/25</td>\n",
       "      <td>310.885000</td>\n",
       "      <td>2875.686250</td>\n",
       "    </tr>\n",
       "    <tr>\n",
       "      <th>22</th>\n",
       "      <td>Oneota</td>\n",
       "      <td>J-Term</td>\n",
       "      <td>Jan</td>\n",
       "      <td>24/25</td>\n",
       "      <td>413.350000</td>\n",
       "      <td>3823.487500</td>\n",
       "    </tr>\n",
       "    <tr>\n",
       "      <th>23</th>\n",
       "      <td>Oneota</td>\n",
       "      <td>Spring</td>\n",
       "      <td>Feb</td>\n",
       "      <td>24/25</td>\n",
       "      <td>463.940000</td>\n",
       "      <td>4291.445000</td>\n",
       "    </tr>\n",
       "    <tr>\n",
       "      <th>24</th>\n",
       "      <td>Oneota</td>\n",
       "      <td>Spring</td>\n",
       "      <td>Mar</td>\n",
       "      <td>24/25</td>\n",
       "      <td>375.082500</td>\n",
       "      <td>3469.513125</td>\n",
       "    </tr>\n",
       "    <tr>\n",
       "      <th>25</th>\n",
       "      <td>Oneota</td>\n",
       "      <td>Spring</td>\n",
       "      <td>Apr</td>\n",
       "      <td>24/25</td>\n",
       "      <td>450.817500</td>\n",
       "      <td>4170.061875</td>\n",
       "    </tr>\n",
       "    <tr>\n",
       "      <th>26</th>\n",
       "      <td>Oneota</td>\n",
       "      <td>Spring</td>\n",
       "      <td>May</td>\n",
       "      <td>24/25</td>\n",
       "      <td>263.915000</td>\n",
       "      <td>2441.213750</td>\n",
       "    </tr>\n",
       "    <tr>\n",
       "      <th>27</th>\n",
       "      <td>C-Store</td>\n",
       "      <td>Fall</td>\n",
       "      <td>Sep</td>\n",
       "      <td>24/25</td>\n",
       "      <td>431.932500</td>\n",
       "      <td>3995.375625</td>\n",
       "    </tr>\n",
       "    <tr>\n",
       "      <th>28</th>\n",
       "      <td>C-Store</td>\n",
       "      <td>Fall</td>\n",
       "      <td>Oct</td>\n",
       "      <td>24/25</td>\n",
       "      <td>326.727500</td>\n",
       "      <td>3022.229375</td>\n",
       "    </tr>\n",
       "    <tr>\n",
       "      <th>29</th>\n",
       "      <td>C-Store</td>\n",
       "      <td>Fall</td>\n",
       "      <td>Nov</td>\n",
       "      <td>24/25</td>\n",
       "      <td>339.545000</td>\n",
       "      <td>3140.791250</td>\n",
       "    </tr>\n",
       "    <tr>\n",
       "      <th>30</th>\n",
       "      <td>C-Store</td>\n",
       "      <td>Fall</td>\n",
       "      <td>Dec</td>\n",
       "      <td>24/25</td>\n",
       "      <td>251.555000</td>\n",
       "      <td>2326.883750</td>\n",
       "    </tr>\n",
       "    <tr>\n",
       "      <th>31</th>\n",
       "      <td>C-Store</td>\n",
       "      <td>J-Term</td>\n",
       "      <td>Jan</td>\n",
       "      <td>24/25</td>\n",
       "      <td>250.152500</td>\n",
       "      <td>2313.910625</td>\n",
       "    </tr>\n",
       "    <tr>\n",
       "      <th>32</th>\n",
       "      <td>C-Store</td>\n",
       "      <td>Spring</td>\n",
       "      <td>Feb</td>\n",
       "      <td>24/25</td>\n",
       "      <td>289.492500</td>\n",
       "      <td>2677.805625</td>\n",
       "    </tr>\n",
       "    <tr>\n",
       "      <th>33</th>\n",
       "      <td>C-Store</td>\n",
       "      <td>Spring</td>\n",
       "      <td>Mar</td>\n",
       "      <td>24/25</td>\n",
       "      <td>188.762500</td>\n",
       "      <td>1746.053125</td>\n",
       "    </tr>\n",
       "    <tr>\n",
       "      <th>34</th>\n",
       "      <td>C-Store</td>\n",
       "      <td>Spring</td>\n",
       "      <td>Apr</td>\n",
       "      <td>24/25</td>\n",
       "      <td>216.037500</td>\n",
       "      <td>1998.346875</td>\n",
       "    </tr>\n",
       "    <tr>\n",
       "      <th>35</th>\n",
       "      <td>C-Store</td>\n",
       "      <td>Spring</td>\n",
       "      <td>May</td>\n",
       "      <td>24/25</td>\n",
       "      <td>139.977500</td>\n",
       "      <td>1294.791875</td>\n",
       "    </tr>\n",
       "    <tr>\n",
       "      <th>36</th>\n",
       "      <td>Catering</td>\n",
       "      <td>Fall</td>\n",
       "      <td>Sep</td>\n",
       "      <td>24/25</td>\n",
       "      <td>255.553333</td>\n",
       "      <td>2363.868330</td>\n",
       "    </tr>\n",
       "    <tr>\n",
       "      <th>37</th>\n",
       "      <td>Catering</td>\n",
       "      <td>Fall</td>\n",
       "      <td>Oct</td>\n",
       "      <td>24/25</td>\n",
       "      <td>256.977917</td>\n",
       "      <td>2377.045732</td>\n",
       "    </tr>\n",
       "    <tr>\n",
       "      <th>38</th>\n",
       "      <td>Catering</td>\n",
       "      <td>Fall</td>\n",
       "      <td>Nov</td>\n",
       "      <td>24/25</td>\n",
       "      <td>173.525000</td>\n",
       "      <td>1605.106250</td>\n",
       "    </tr>\n",
       "    <tr>\n",
       "      <th>39</th>\n",
       "      <td>Catering</td>\n",
       "      <td>Fall</td>\n",
       "      <td>Dec</td>\n",
       "      <td>24/25</td>\n",
       "      <td>180.673750</td>\n",
       "      <td>1671.232188</td>\n",
       "    </tr>\n",
       "    <tr>\n",
       "      <th>40</th>\n",
       "      <td>Catering</td>\n",
       "      <td>J-Term</td>\n",
       "      <td>Jan</td>\n",
       "      <td>24/25</td>\n",
       "      <td>135.222500</td>\n",
       "      <td>1250.808125</td>\n",
       "    </tr>\n",
       "    <tr>\n",
       "      <th>41</th>\n",
       "      <td>Catering</td>\n",
       "      <td>Spring</td>\n",
       "      <td>Feb</td>\n",
       "      <td>24/25</td>\n",
       "      <td>114.840000</td>\n",
       "      <td>1062.270000</td>\n",
       "    </tr>\n",
       "    <tr>\n",
       "      <th>42</th>\n",
       "      <td>Catering</td>\n",
       "      <td>Spring</td>\n",
       "      <td>Mar</td>\n",
       "      <td>24/25</td>\n",
       "      <td>125.680000</td>\n",
       "      <td>1162.540000</td>\n",
       "    </tr>\n",
       "    <tr>\n",
       "      <th>43</th>\n",
       "      <td>Catering</td>\n",
       "      <td>Spring</td>\n",
       "      <td>Apr</td>\n",
       "      <td>24/25</td>\n",
       "      <td>122.975000</td>\n",
       "      <td>1137.518750</td>\n",
       "    </tr>\n",
       "    <tr>\n",
       "      <th>44</th>\n",
       "      <td>Catering</td>\n",
       "      <td>Spring</td>\n",
       "      <td>May</td>\n",
       "      <td>24/25</td>\n",
       "      <td>88.197500</td>\n",
       "      <td>815.826875</td>\n",
       "    </tr>\n",
       "  </tbody>\n",
       "</table>\n",
       "</div>"
      ],
      "text/plain": [
       "           DEP Semester Month Academic Year        Hours   Money Spent\n",
       "0   Res Dining     Fall   Sep         24/25  1461.137500  13515.521875\n",
       "1   Res Dining     Fall   Oct         24/25  1461.137500  13515.521875\n",
       "2   Res Dining     Fall   Nov         24/25   956.562500   8848.203125\n",
       "3   Res Dining     Fall   Dec         24/25   993.367500   9188.649375\n",
       "4   Res Dining   J-Term   Jan         24/25   896.552500   8293.110625\n",
       "5   Res Dining   Spring   Feb         24/25   797.362500   7375.603125\n",
       "6   Res Dining   Spring   Mar         24/25   839.665000   7766.901250\n",
       "7   Res Dining   Spring   Apr         24/25   756.660000   6999.105000\n",
       "8   Res Dining   Spring   May         24/25   665.707500   6157.794375\n",
       "9       Martys     Fall   Sep         24/25  1170.652500  10828.535625\n",
       "10      Martys     Fall   Oct         24/25  1082.915000  10016.963750\n",
       "11      Martys     Fall   Nov         24/25   590.892500   5465.755625\n",
       "12      Martys     Fall   Dec         24/25   459.155000   4247.183750\n",
       "13      Martys   J-Term   Jan         24/25   701.200000   6486.100000\n",
       "14      Martys   Spring   Feb         24/25   747.450000   6913.912500\n",
       "15      Martys   Spring   Mar         24/25   613.347500   5673.464375\n",
       "16      Martys   Spring   Apr         24/25   536.590000   4963.457500\n",
       "17      Martys   Spring   May         24/25   451.107500   4172.744375\n",
       "18      Oneota     Fall   Sep         24/25   634.737500   5871.321875\n",
       "19      Oneota     Fall   Oct         24/25   589.625000   5454.031250\n",
       "20      Oneota     Fall   Nov         24/25   382.702500   3539.998125\n",
       "21      Oneota     Fall   Dec         24/25   310.885000   2875.686250\n",
       "22      Oneota   J-Term   Jan         24/25   413.350000   3823.487500\n",
       "23      Oneota   Spring   Feb         24/25   463.940000   4291.445000\n",
       "24      Oneota   Spring   Mar         24/25   375.082500   3469.513125\n",
       "25      Oneota   Spring   Apr         24/25   450.817500   4170.061875\n",
       "26      Oneota   Spring   May         24/25   263.915000   2441.213750\n",
       "27     C-Store     Fall   Sep         24/25   431.932500   3995.375625\n",
       "28     C-Store     Fall   Oct         24/25   326.727500   3022.229375\n",
       "29     C-Store     Fall   Nov         24/25   339.545000   3140.791250\n",
       "30     C-Store     Fall   Dec         24/25   251.555000   2326.883750\n",
       "31     C-Store   J-Term   Jan         24/25   250.152500   2313.910625\n",
       "32     C-Store   Spring   Feb         24/25   289.492500   2677.805625\n",
       "33     C-Store   Spring   Mar         24/25   188.762500   1746.053125\n",
       "34     C-Store   Spring   Apr         24/25   216.037500   1998.346875\n",
       "35     C-Store   Spring   May         24/25   139.977500   1294.791875\n",
       "36    Catering     Fall   Sep         24/25   255.553333   2363.868330\n",
       "37    Catering     Fall   Oct         24/25   256.977917   2377.045732\n",
       "38    Catering     Fall   Nov         24/25   173.525000   1605.106250\n",
       "39    Catering     Fall   Dec         24/25   180.673750   1671.232188\n",
       "40    Catering   J-Term   Jan         24/25   135.222500   1250.808125\n",
       "41    Catering   Spring   Feb         24/25   114.840000   1062.270000\n",
       "42    Catering   Spring   Mar         24/25   125.680000   1162.540000\n",
       "43    Catering   Spring   Apr         24/25   122.975000   1137.518750\n",
       "44    Catering   Spring   May         24/25    88.197500    815.826875"
      ]
     },
     "execution_count": 7,
     "metadata": {},
     "output_type": "execute_result"
    }
   ],
   "source": [
    "DinningPred2025 = pd.read_excel(\"DinningData.xlsx\", sheet_name='Academic Year 24 25 ')\n",
    "DinningPred2025"
   ]
  },
  {
   "cell_type": "code",
   "execution_count": 10,
   "metadata": {},
   "outputs": [
    {
     "data": {
      "text/html": [
       "<div>\n",
       "<style scoped>\n",
       "    .dataframe tbody tr th:only-of-type {\n",
       "        vertical-align: middle;\n",
       "    }\n",
       "\n",
       "    .dataframe tbody tr th {\n",
       "        vertical-align: top;\n",
       "    }\n",
       "\n",
       "    .dataframe thead th {\n",
       "        text-align: right;\n",
       "    }\n",
       "</style>\n",
       "<table border=\"1\" class=\"dataframe\">\n",
       "  <thead>\n",
       "    <tr style=\"text-align: right;\">\n",
       "      <th></th>\n",
       "      <th>DEP</th>\n",
       "      <th>Month</th>\n",
       "      <th>Money Spent</th>\n",
       "    </tr>\n",
       "  </thead>\n",
       "  <tbody>\n",
       "    <tr>\n",
       "      <th>0</th>\n",
       "      <td>C-Store</td>\n",
       "      <td>Apr</td>\n",
       "      <td>1998.346875</td>\n",
       "    </tr>\n",
       "    <tr>\n",
       "      <th>1</th>\n",
       "      <td>C-Store</td>\n",
       "      <td>Dec</td>\n",
       "      <td>2326.883750</td>\n",
       "    </tr>\n",
       "    <tr>\n",
       "      <th>2</th>\n",
       "      <td>C-Store</td>\n",
       "      <td>Feb</td>\n",
       "      <td>2677.805625</td>\n",
       "    </tr>\n",
       "    <tr>\n",
       "      <th>3</th>\n",
       "      <td>C-Store</td>\n",
       "      <td>Jan</td>\n",
       "      <td>2313.910625</td>\n",
       "    </tr>\n",
       "    <tr>\n",
       "      <th>4</th>\n",
       "      <td>C-Store</td>\n",
       "      <td>Mar</td>\n",
       "      <td>1746.053125</td>\n",
       "    </tr>\n",
       "    <tr>\n",
       "      <th>5</th>\n",
       "      <td>C-Store</td>\n",
       "      <td>May</td>\n",
       "      <td>1294.791875</td>\n",
       "    </tr>\n",
       "    <tr>\n",
       "      <th>6</th>\n",
       "      <td>C-Store</td>\n",
       "      <td>Nov</td>\n",
       "      <td>3140.791250</td>\n",
       "    </tr>\n",
       "    <tr>\n",
       "      <th>7</th>\n",
       "      <td>C-Store</td>\n",
       "      <td>Oct</td>\n",
       "      <td>3022.229375</td>\n",
       "    </tr>\n",
       "    <tr>\n",
       "      <th>8</th>\n",
       "      <td>C-Store</td>\n",
       "      <td>Sep</td>\n",
       "      <td>3995.375625</td>\n",
       "    </tr>\n",
       "    <tr>\n",
       "      <th>9</th>\n",
       "      <td>Catering</td>\n",
       "      <td>Apr</td>\n",
       "      <td>1137.518750</td>\n",
       "    </tr>\n",
       "    <tr>\n",
       "      <th>10</th>\n",
       "      <td>Catering</td>\n",
       "      <td>Dec</td>\n",
       "      <td>1671.232188</td>\n",
       "    </tr>\n",
       "    <tr>\n",
       "      <th>11</th>\n",
       "      <td>Catering</td>\n",
       "      <td>Feb</td>\n",
       "      <td>1062.270000</td>\n",
       "    </tr>\n",
       "    <tr>\n",
       "      <th>12</th>\n",
       "      <td>Catering</td>\n",
       "      <td>Jan</td>\n",
       "      <td>1250.808125</td>\n",
       "    </tr>\n",
       "    <tr>\n",
       "      <th>13</th>\n",
       "      <td>Catering</td>\n",
       "      <td>Mar</td>\n",
       "      <td>1162.540000</td>\n",
       "    </tr>\n",
       "    <tr>\n",
       "      <th>14</th>\n",
       "      <td>Catering</td>\n",
       "      <td>May</td>\n",
       "      <td>815.826875</td>\n",
       "    </tr>\n",
       "    <tr>\n",
       "      <th>15</th>\n",
       "      <td>Catering</td>\n",
       "      <td>Nov</td>\n",
       "      <td>1605.106250</td>\n",
       "    </tr>\n",
       "    <tr>\n",
       "      <th>16</th>\n",
       "      <td>Catering</td>\n",
       "      <td>Oct</td>\n",
       "      <td>2377.045732</td>\n",
       "    </tr>\n",
       "    <tr>\n",
       "      <th>17</th>\n",
       "      <td>Catering</td>\n",
       "      <td>Sep</td>\n",
       "      <td>2363.868330</td>\n",
       "    </tr>\n",
       "    <tr>\n",
       "      <th>18</th>\n",
       "      <td>Martys</td>\n",
       "      <td>Apr</td>\n",
       "      <td>4963.457500</td>\n",
       "    </tr>\n",
       "    <tr>\n",
       "      <th>19</th>\n",
       "      <td>Martys</td>\n",
       "      <td>Dec</td>\n",
       "      <td>4247.183750</td>\n",
       "    </tr>\n",
       "    <tr>\n",
       "      <th>20</th>\n",
       "      <td>Martys</td>\n",
       "      <td>Feb</td>\n",
       "      <td>6913.912500</td>\n",
       "    </tr>\n",
       "    <tr>\n",
       "      <th>21</th>\n",
       "      <td>Martys</td>\n",
       "      <td>Jan</td>\n",
       "      <td>6486.100000</td>\n",
       "    </tr>\n",
       "    <tr>\n",
       "      <th>22</th>\n",
       "      <td>Martys</td>\n",
       "      <td>Mar</td>\n",
       "      <td>5673.464375</td>\n",
       "    </tr>\n",
       "    <tr>\n",
       "      <th>23</th>\n",
       "      <td>Martys</td>\n",
       "      <td>May</td>\n",
       "      <td>4172.744375</td>\n",
       "    </tr>\n",
       "    <tr>\n",
       "      <th>24</th>\n",
       "      <td>Martys</td>\n",
       "      <td>Nov</td>\n",
       "      <td>5465.755625</td>\n",
       "    </tr>\n",
       "    <tr>\n",
       "      <th>25</th>\n",
       "      <td>Martys</td>\n",
       "      <td>Oct</td>\n",
       "      <td>10016.963750</td>\n",
       "    </tr>\n",
       "    <tr>\n",
       "      <th>26</th>\n",
       "      <td>Martys</td>\n",
       "      <td>Sep</td>\n",
       "      <td>10828.535625</td>\n",
       "    </tr>\n",
       "    <tr>\n",
       "      <th>27</th>\n",
       "      <td>Oneota</td>\n",
       "      <td>Apr</td>\n",
       "      <td>4170.061875</td>\n",
       "    </tr>\n",
       "    <tr>\n",
       "      <th>28</th>\n",
       "      <td>Oneota</td>\n",
       "      <td>Dec</td>\n",
       "      <td>2875.686250</td>\n",
       "    </tr>\n",
       "    <tr>\n",
       "      <th>29</th>\n",
       "      <td>Oneota</td>\n",
       "      <td>Feb</td>\n",
       "      <td>4291.445000</td>\n",
       "    </tr>\n",
       "    <tr>\n",
       "      <th>30</th>\n",
       "      <td>Oneota</td>\n",
       "      <td>Jan</td>\n",
       "      <td>3823.487500</td>\n",
       "    </tr>\n",
       "    <tr>\n",
       "      <th>31</th>\n",
       "      <td>Oneota</td>\n",
       "      <td>Mar</td>\n",
       "      <td>3469.513125</td>\n",
       "    </tr>\n",
       "    <tr>\n",
       "      <th>32</th>\n",
       "      <td>Oneota</td>\n",
       "      <td>May</td>\n",
       "      <td>2441.213750</td>\n",
       "    </tr>\n",
       "    <tr>\n",
       "      <th>33</th>\n",
       "      <td>Oneota</td>\n",
       "      <td>Nov</td>\n",
       "      <td>3539.998125</td>\n",
       "    </tr>\n",
       "    <tr>\n",
       "      <th>34</th>\n",
       "      <td>Oneota</td>\n",
       "      <td>Oct</td>\n",
       "      <td>5454.031250</td>\n",
       "    </tr>\n",
       "    <tr>\n",
       "      <th>35</th>\n",
       "      <td>Oneota</td>\n",
       "      <td>Sep</td>\n",
       "      <td>5871.321875</td>\n",
       "    </tr>\n",
       "    <tr>\n",
       "      <th>36</th>\n",
       "      <td>Res Dining</td>\n",
       "      <td>Apr</td>\n",
       "      <td>6999.105000</td>\n",
       "    </tr>\n",
       "    <tr>\n",
       "      <th>37</th>\n",
       "      <td>Res Dining</td>\n",
       "      <td>Dec</td>\n",
       "      <td>9188.649375</td>\n",
       "    </tr>\n",
       "    <tr>\n",
       "      <th>38</th>\n",
       "      <td>Res Dining</td>\n",
       "      <td>Feb</td>\n",
       "      <td>7375.603125</td>\n",
       "    </tr>\n",
       "    <tr>\n",
       "      <th>39</th>\n",
       "      <td>Res Dining</td>\n",
       "      <td>Jan</td>\n",
       "      <td>8293.110625</td>\n",
       "    </tr>\n",
       "    <tr>\n",
       "      <th>40</th>\n",
       "      <td>Res Dining</td>\n",
       "      <td>Mar</td>\n",
       "      <td>7766.901250</td>\n",
       "    </tr>\n",
       "    <tr>\n",
       "      <th>41</th>\n",
       "      <td>Res Dining</td>\n",
       "      <td>May</td>\n",
       "      <td>6157.794375</td>\n",
       "    </tr>\n",
       "    <tr>\n",
       "      <th>42</th>\n",
       "      <td>Res Dining</td>\n",
       "      <td>Nov</td>\n",
       "      <td>8848.203125</td>\n",
       "    </tr>\n",
       "    <tr>\n",
       "      <th>43</th>\n",
       "      <td>Res Dining</td>\n",
       "      <td>Oct</td>\n",
       "      <td>13515.521875</td>\n",
       "    </tr>\n",
       "    <tr>\n",
       "      <th>44</th>\n",
       "      <td>Res Dining</td>\n",
       "      <td>Sep</td>\n",
       "      <td>13515.521875</td>\n",
       "    </tr>\n",
       "  </tbody>\n",
       "</table>\n",
       "</div>"
      ],
      "text/plain": [
       "           DEP Month   Money Spent\n",
       "0      C-Store   Apr   1998.346875\n",
       "1      C-Store   Dec   2326.883750\n",
       "2      C-Store   Feb   2677.805625\n",
       "3      C-Store   Jan   2313.910625\n",
       "4      C-Store   Mar   1746.053125\n",
       "5      C-Store   May   1294.791875\n",
       "6      C-Store   Nov   3140.791250\n",
       "7      C-Store   Oct   3022.229375\n",
       "8      C-Store   Sep   3995.375625\n",
       "9     Catering   Apr   1137.518750\n",
       "10    Catering   Dec   1671.232188\n",
       "11    Catering   Feb   1062.270000\n",
       "12    Catering   Jan   1250.808125\n",
       "13    Catering   Mar   1162.540000\n",
       "14    Catering   May    815.826875\n",
       "15    Catering   Nov   1605.106250\n",
       "16    Catering   Oct   2377.045732\n",
       "17    Catering   Sep   2363.868330\n",
       "18      Martys   Apr   4963.457500\n",
       "19      Martys   Dec   4247.183750\n",
       "20      Martys   Feb   6913.912500\n",
       "21      Martys   Jan   6486.100000\n",
       "22      Martys   Mar   5673.464375\n",
       "23      Martys   May   4172.744375\n",
       "24      Martys   Nov   5465.755625\n",
       "25      Martys   Oct  10016.963750\n",
       "26      Martys   Sep  10828.535625\n",
       "27      Oneota   Apr   4170.061875\n",
       "28      Oneota   Dec   2875.686250\n",
       "29      Oneota   Feb   4291.445000\n",
       "30      Oneota   Jan   3823.487500\n",
       "31      Oneota   Mar   3469.513125\n",
       "32      Oneota   May   2441.213750\n",
       "33      Oneota   Nov   3539.998125\n",
       "34      Oneota   Oct   5454.031250\n",
       "35      Oneota   Sep   5871.321875\n",
       "36  Res Dining   Apr   6999.105000\n",
       "37  Res Dining   Dec   9188.649375\n",
       "38  Res Dining   Feb   7375.603125\n",
       "39  Res Dining   Jan   8293.110625\n",
       "40  Res Dining   Mar   7766.901250\n",
       "41  Res Dining   May   6157.794375\n",
       "42  Res Dining   Nov   8848.203125\n",
       "43  Res Dining   Oct  13515.521875\n",
       "44  Res Dining   Sep  13515.521875"
      ]
     },
     "execution_count": 10,
     "metadata": {},
     "output_type": "execute_result"
    }
   ],
   "source": [
    "agg_data = DinningPred2025.groupby(['DEP', 'Month'], as_index=False)['Money Spent'].sum()\n",
    "agg_data"
   ]
  },
  {
   "cell_type": "code",
   "execution_count": 24,
   "metadata": {},
   "outputs": [
    {
     "data": {
      "application/vnd.plotly.v1+json": {
       "config": {
        "plotlyServerURL": "https://plot.ly"
       },
       "data": [
        {
         "alignmentgroup": "True",
         "hovertemplate": "Department=C-Store<br>Month=%{x}<br>Total Money Spent ($)=%{y}<extra></extra>",
         "legendgroup": "C-Store",
         "marker": {
          "color": "#6A5ACD",
          "pattern": {
           "shape": ""
          }
         },
         "name": "C-Store",
         "offsetgroup": "C-Store",
         "orientation": "v",
         "showlegend": true,
         "textposition": "auto",
         "type": "bar",
         "x": [
          "Apr",
          "Dec",
          "Feb",
          "Jan",
          "Mar",
          "May",
          "Nov",
          "Oct",
          "Sep"
         ],
         "xaxis": "x5",
         "y": [
          1998.346875,
          2326.88375,
          2677.805625,
          2313.910625,
          1746.053125,
          1294.791875,
          3140.79125,
          3022.2293750000003,
          3995.375625
         ],
         "yaxis": "y5"
        },
        {
         "alignmentgroup": "True",
         "hovertemplate": "Department=Catering<br>Month=%{x}<br>Total Money Spent ($)=%{y}<extra></extra>",
         "legendgroup": "Catering",
         "marker": {
          "color": "#2E8B57",
          "pattern": {
           "shape": ""
          }
         },
         "name": "Catering",
         "offsetgroup": "Catering",
         "orientation": "v",
         "showlegend": true,
         "textposition": "auto",
         "type": "bar",
         "x": [
          "Apr",
          "Dec",
          "Feb",
          "Jan",
          "Mar",
          "May",
          "Nov",
          "Oct",
          "Sep"
         ],
         "xaxis": "x6",
         "y": [
          1137.51875,
          1671.2321875,
          1062.27,
          1250.808125,
          1162.54,
          815.8268750000001,
          1605.10625,
          2377.04573225,
          2363.86833025
         ],
         "yaxis": "y6"
        },
        {
         "alignmentgroup": "True",
         "hovertemplate": "Department=Martys<br>Month=%{x}<br>Total Money Spent ($)=%{y}<extra></extra>",
         "legendgroup": "Martys",
         "marker": {
          "color": "#FF7F50",
          "pattern": {
           "shape": ""
          }
         },
         "name": "Martys",
         "offsetgroup": "Martys",
         "orientation": "v",
         "showlegend": true,
         "textposition": "auto",
         "type": "bar",
         "x": [
          "Apr",
          "Dec",
          "Feb",
          "Jan",
          "Mar",
          "May",
          "Nov",
          "Oct",
          "Sep"
         ],
         "xaxis": "x3",
         "y": [
          4963.4575,
          4247.18375,
          6913.9125,
          6486.1,
          5673.464375,
          4172.744375,
          5465.755625000001,
          10016.963749999999,
          10828.535624999999
         ],
         "yaxis": "y3"
        },
        {
         "alignmentgroup": "True",
         "hovertemplate": "Department=Oneota<br>Month=%{x}<br>Total Money Spent ($)=%{y}<extra></extra>",
         "legendgroup": "Oneota",
         "marker": {
          "color": "#DAA520",
          "pattern": {
           "shape": ""
          }
         },
         "name": "Oneota",
         "offsetgroup": "Oneota",
         "orientation": "v",
         "showlegend": true,
         "textposition": "auto",
         "type": "bar",
         "x": [
          "Apr",
          "Dec",
          "Feb",
          "Jan",
          "Mar",
          "May",
          "Nov",
          "Oct",
          "Sep"
         ],
         "xaxis": "x4",
         "y": [
          4170.061875,
          2875.6862499999997,
          4291.445,
          3823.4875,
          3469.513125,
          2441.2137500000003,
          3539.998125,
          5454.03125,
          5871.321875
         ],
         "yaxis": "y4"
        },
        {
         "alignmentgroup": "True",
         "hovertemplate": "Department=Res Dining<br>Month=%{x}<br>Total Money Spent ($)=%{y}<extra></extra>",
         "legendgroup": "Res Dining",
         "marker": {
          "color": "#008080",
          "pattern": {
           "shape": ""
          }
         },
         "name": "Res Dining",
         "offsetgroup": "Res Dining",
         "orientation": "v",
         "showlegend": true,
         "textposition": "auto",
         "type": "bar",
         "x": [
          "Apr",
          "Dec",
          "Feb",
          "Jan",
          "Mar",
          "May",
          "Nov",
          "Oct",
          "Sep"
         ],
         "xaxis": "x",
         "y": [
          6999.105,
          9188.649374999999,
          7375.603125,
          8293.110625,
          7766.90125,
          6157.7943749999995,
          8848.203125,
          13515.521875,
          13515.521875
         ],
         "yaxis": "y"
        }
       ],
       "layout": {
        "annotations": [
         {
          "font": {},
          "showarrow": false,
          "text": "Department=Res Dining",
          "x": 0.245,
          "xanchor": "center",
          "xref": "paper",
          "y": 0.2866666666666666,
          "yanchor": "bottom",
          "yref": "paper"
         },
         {
          "font": {},
          "showarrow": false,
          "text": "Department=Martys",
          "x": 0.245,
          "xanchor": "center",
          "xref": "paper",
          "y": 0.6433333333333333,
          "yanchor": "bottom",
          "yref": "paper"
         },
         {
          "font": {},
          "showarrow": false,
          "text": "Department=Oneota",
          "x": 0.755,
          "xanchor": "center",
          "xref": "paper",
          "y": 0.6433333333333333,
          "yanchor": "bottom",
          "yref": "paper"
         },
         {
          "font": {},
          "showarrow": false,
          "text": "Department=C-Store",
          "x": 0.245,
          "xanchor": "center",
          "xref": "paper",
          "y": 0.9999999999999999,
          "yanchor": "bottom",
          "yref": "paper"
         },
         {
          "font": {},
          "showarrow": false,
          "text": "Department=Catering",
          "x": 0.755,
          "xanchor": "center",
          "xref": "paper",
          "y": 0.9999999999999999,
          "yanchor": "bottom",
          "yref": "paper"
         }
        ],
        "barmode": "group",
        "legend": {
         "title": {
          "text": "Department"
         },
         "tracegroupgap": 0
        },
        "template": {
         "data": {
          "bar": [
           {
            "error_x": {
             "color": "#2a3f5f"
            },
            "error_y": {
             "color": "#2a3f5f"
            },
            "marker": {
             "line": {
              "color": "#E5ECF6",
              "width": 0.5
             },
             "pattern": {
              "fillmode": "overlay",
              "size": 10,
              "solidity": 0.2
             }
            },
            "type": "bar"
           }
          ],
          "barpolar": [
           {
            "marker": {
             "line": {
              "color": "#E5ECF6",
              "width": 0.5
             },
             "pattern": {
              "fillmode": "overlay",
              "size": 10,
              "solidity": 0.2
             }
            },
            "type": "barpolar"
           }
          ],
          "carpet": [
           {
            "aaxis": {
             "endlinecolor": "#2a3f5f",
             "gridcolor": "white",
             "linecolor": "white",
             "minorgridcolor": "white",
             "startlinecolor": "#2a3f5f"
            },
            "baxis": {
             "endlinecolor": "#2a3f5f",
             "gridcolor": "white",
             "linecolor": "white",
             "minorgridcolor": "white",
             "startlinecolor": "#2a3f5f"
            },
            "type": "carpet"
           }
          ],
          "choropleth": [
           {
            "colorbar": {
             "outlinewidth": 0,
             "ticks": ""
            },
            "type": "choropleth"
           }
          ],
          "contour": [
           {
            "colorbar": {
             "outlinewidth": 0,
             "ticks": ""
            },
            "colorscale": [
             [
              0,
              "#0d0887"
             ],
             [
              0.1111111111111111,
              "#46039f"
             ],
             [
              0.2222222222222222,
              "#7201a8"
             ],
             [
              0.3333333333333333,
              "#9c179e"
             ],
             [
              0.4444444444444444,
              "#bd3786"
             ],
             [
              0.5555555555555556,
              "#d8576b"
             ],
             [
              0.6666666666666666,
              "#ed7953"
             ],
             [
              0.7777777777777778,
              "#fb9f3a"
             ],
             [
              0.8888888888888888,
              "#fdca26"
             ],
             [
              1,
              "#f0f921"
             ]
            ],
            "type": "contour"
           }
          ],
          "contourcarpet": [
           {
            "colorbar": {
             "outlinewidth": 0,
             "ticks": ""
            },
            "type": "contourcarpet"
           }
          ],
          "heatmap": [
           {
            "colorbar": {
             "outlinewidth": 0,
             "ticks": ""
            },
            "colorscale": [
             [
              0,
              "#0d0887"
             ],
             [
              0.1111111111111111,
              "#46039f"
             ],
             [
              0.2222222222222222,
              "#7201a8"
             ],
             [
              0.3333333333333333,
              "#9c179e"
             ],
             [
              0.4444444444444444,
              "#bd3786"
             ],
             [
              0.5555555555555556,
              "#d8576b"
             ],
             [
              0.6666666666666666,
              "#ed7953"
             ],
             [
              0.7777777777777778,
              "#fb9f3a"
             ],
             [
              0.8888888888888888,
              "#fdca26"
             ],
             [
              1,
              "#f0f921"
             ]
            ],
            "type": "heatmap"
           }
          ],
          "heatmapgl": [
           {
            "colorbar": {
             "outlinewidth": 0,
             "ticks": ""
            },
            "colorscale": [
             [
              0,
              "#0d0887"
             ],
             [
              0.1111111111111111,
              "#46039f"
             ],
             [
              0.2222222222222222,
              "#7201a8"
             ],
             [
              0.3333333333333333,
              "#9c179e"
             ],
             [
              0.4444444444444444,
              "#bd3786"
             ],
             [
              0.5555555555555556,
              "#d8576b"
             ],
             [
              0.6666666666666666,
              "#ed7953"
             ],
             [
              0.7777777777777778,
              "#fb9f3a"
             ],
             [
              0.8888888888888888,
              "#fdca26"
             ],
             [
              1,
              "#f0f921"
             ]
            ],
            "type": "heatmapgl"
           }
          ],
          "histogram": [
           {
            "marker": {
             "pattern": {
              "fillmode": "overlay",
              "size": 10,
              "solidity": 0.2
             }
            },
            "type": "histogram"
           }
          ],
          "histogram2d": [
           {
            "colorbar": {
             "outlinewidth": 0,
             "ticks": ""
            },
            "colorscale": [
             [
              0,
              "#0d0887"
             ],
             [
              0.1111111111111111,
              "#46039f"
             ],
             [
              0.2222222222222222,
              "#7201a8"
             ],
             [
              0.3333333333333333,
              "#9c179e"
             ],
             [
              0.4444444444444444,
              "#bd3786"
             ],
             [
              0.5555555555555556,
              "#d8576b"
             ],
             [
              0.6666666666666666,
              "#ed7953"
             ],
             [
              0.7777777777777778,
              "#fb9f3a"
             ],
             [
              0.8888888888888888,
              "#fdca26"
             ],
             [
              1,
              "#f0f921"
             ]
            ],
            "type": "histogram2d"
           }
          ],
          "histogram2dcontour": [
           {
            "colorbar": {
             "outlinewidth": 0,
             "ticks": ""
            },
            "colorscale": [
             [
              0,
              "#0d0887"
             ],
             [
              0.1111111111111111,
              "#46039f"
             ],
             [
              0.2222222222222222,
              "#7201a8"
             ],
             [
              0.3333333333333333,
              "#9c179e"
             ],
             [
              0.4444444444444444,
              "#bd3786"
             ],
             [
              0.5555555555555556,
              "#d8576b"
             ],
             [
              0.6666666666666666,
              "#ed7953"
             ],
             [
              0.7777777777777778,
              "#fb9f3a"
             ],
             [
              0.8888888888888888,
              "#fdca26"
             ],
             [
              1,
              "#f0f921"
             ]
            ],
            "type": "histogram2dcontour"
           }
          ],
          "mesh3d": [
           {
            "colorbar": {
             "outlinewidth": 0,
             "ticks": ""
            },
            "type": "mesh3d"
           }
          ],
          "parcoords": [
           {
            "line": {
             "colorbar": {
              "outlinewidth": 0,
              "ticks": ""
             }
            },
            "type": "parcoords"
           }
          ],
          "pie": [
           {
            "automargin": true,
            "type": "pie"
           }
          ],
          "scatter": [
           {
            "fillpattern": {
             "fillmode": "overlay",
             "size": 10,
             "solidity": 0.2
            },
            "type": "scatter"
           }
          ],
          "scatter3d": [
           {
            "line": {
             "colorbar": {
              "outlinewidth": 0,
              "ticks": ""
             }
            },
            "marker": {
             "colorbar": {
              "outlinewidth": 0,
              "ticks": ""
             }
            },
            "type": "scatter3d"
           }
          ],
          "scattercarpet": [
           {
            "marker": {
             "colorbar": {
              "outlinewidth": 0,
              "ticks": ""
             }
            },
            "type": "scattercarpet"
           }
          ],
          "scattergeo": [
           {
            "marker": {
             "colorbar": {
              "outlinewidth": 0,
              "ticks": ""
             }
            },
            "type": "scattergeo"
           }
          ],
          "scattergl": [
           {
            "marker": {
             "colorbar": {
              "outlinewidth": 0,
              "ticks": ""
             }
            },
            "type": "scattergl"
           }
          ],
          "scattermapbox": [
           {
            "marker": {
             "colorbar": {
              "outlinewidth": 0,
              "ticks": ""
             }
            },
            "type": "scattermapbox"
           }
          ],
          "scatterpolar": [
           {
            "marker": {
             "colorbar": {
              "outlinewidth": 0,
              "ticks": ""
             }
            },
            "type": "scatterpolar"
           }
          ],
          "scatterpolargl": [
           {
            "marker": {
             "colorbar": {
              "outlinewidth": 0,
              "ticks": ""
             }
            },
            "type": "scatterpolargl"
           }
          ],
          "scatterternary": [
           {
            "marker": {
             "colorbar": {
              "outlinewidth": 0,
              "ticks": ""
             }
            },
            "type": "scatterternary"
           }
          ],
          "surface": [
           {
            "colorbar": {
             "outlinewidth": 0,
             "ticks": ""
            },
            "colorscale": [
             [
              0,
              "#0d0887"
             ],
             [
              0.1111111111111111,
              "#46039f"
             ],
             [
              0.2222222222222222,
              "#7201a8"
             ],
             [
              0.3333333333333333,
              "#9c179e"
             ],
             [
              0.4444444444444444,
              "#bd3786"
             ],
             [
              0.5555555555555556,
              "#d8576b"
             ],
             [
              0.6666666666666666,
              "#ed7953"
             ],
             [
              0.7777777777777778,
              "#fb9f3a"
             ],
             [
              0.8888888888888888,
              "#fdca26"
             ],
             [
              1,
              "#f0f921"
             ]
            ],
            "type": "surface"
           }
          ],
          "table": [
           {
            "cells": {
             "fill": {
              "color": "#EBF0F8"
             },
             "line": {
              "color": "white"
             }
            },
            "header": {
             "fill": {
              "color": "#C8D4E3"
             },
             "line": {
              "color": "white"
             }
            },
            "type": "table"
           }
          ]
         },
         "layout": {
          "annotationdefaults": {
           "arrowcolor": "#2a3f5f",
           "arrowhead": 0,
           "arrowwidth": 1
          },
          "autotypenumbers": "strict",
          "coloraxis": {
           "colorbar": {
            "outlinewidth": 0,
            "ticks": ""
           }
          },
          "colorscale": {
           "diverging": [
            [
             0,
             "#8e0152"
            ],
            [
             0.1,
             "#c51b7d"
            ],
            [
             0.2,
             "#de77ae"
            ],
            [
             0.3,
             "#f1b6da"
            ],
            [
             0.4,
             "#fde0ef"
            ],
            [
             0.5,
             "#f7f7f7"
            ],
            [
             0.6,
             "#e6f5d0"
            ],
            [
             0.7,
             "#b8e186"
            ],
            [
             0.8,
             "#7fbc41"
            ],
            [
             0.9,
             "#4d9221"
            ],
            [
             1,
             "#276419"
            ]
           ],
           "sequential": [
            [
             0,
             "#0d0887"
            ],
            [
             0.1111111111111111,
             "#46039f"
            ],
            [
             0.2222222222222222,
             "#7201a8"
            ],
            [
             0.3333333333333333,
             "#9c179e"
            ],
            [
             0.4444444444444444,
             "#bd3786"
            ],
            [
             0.5555555555555556,
             "#d8576b"
            ],
            [
             0.6666666666666666,
             "#ed7953"
            ],
            [
             0.7777777777777778,
             "#fb9f3a"
            ],
            [
             0.8888888888888888,
             "#fdca26"
            ],
            [
             1,
             "#f0f921"
            ]
           ],
           "sequentialminus": [
            [
             0,
             "#0d0887"
            ],
            [
             0.1111111111111111,
             "#46039f"
            ],
            [
             0.2222222222222222,
             "#7201a8"
            ],
            [
             0.3333333333333333,
             "#9c179e"
            ],
            [
             0.4444444444444444,
             "#bd3786"
            ],
            [
             0.5555555555555556,
             "#d8576b"
            ],
            [
             0.6666666666666666,
             "#ed7953"
            ],
            [
             0.7777777777777778,
             "#fb9f3a"
            ],
            [
             0.8888888888888888,
             "#fdca26"
            ],
            [
             1,
             "#f0f921"
            ]
           ]
          },
          "colorway": [
           "#636efa",
           "#EF553B",
           "#00cc96",
           "#ab63fa",
           "#FFA15A",
           "#19d3f3",
           "#FF6692",
           "#B6E880",
           "#FF97FF",
           "#FECB52"
          ],
          "font": {
           "color": "#2a3f5f"
          },
          "geo": {
           "bgcolor": "white",
           "lakecolor": "white",
           "landcolor": "#E5ECF6",
           "showlakes": true,
           "showland": true,
           "subunitcolor": "white"
          },
          "hoverlabel": {
           "align": "left"
          },
          "hovermode": "closest",
          "mapbox": {
           "style": "light"
          },
          "paper_bgcolor": "white",
          "plot_bgcolor": "#E5ECF6",
          "polar": {
           "angularaxis": {
            "gridcolor": "white",
            "linecolor": "white",
            "ticks": ""
           },
           "bgcolor": "#E5ECF6",
           "radialaxis": {
            "gridcolor": "white",
            "linecolor": "white",
            "ticks": ""
           }
          },
          "scene": {
           "xaxis": {
            "backgroundcolor": "#E5ECF6",
            "gridcolor": "white",
            "gridwidth": 2,
            "linecolor": "white",
            "showbackground": true,
            "ticks": "",
            "zerolinecolor": "white"
           },
           "yaxis": {
            "backgroundcolor": "#E5ECF6",
            "gridcolor": "white",
            "gridwidth": 2,
            "linecolor": "white",
            "showbackground": true,
            "ticks": "",
            "zerolinecolor": "white"
           },
           "zaxis": {
            "backgroundcolor": "#E5ECF6",
            "gridcolor": "white",
            "gridwidth": 2,
            "linecolor": "white",
            "showbackground": true,
            "ticks": "",
            "zerolinecolor": "white"
           }
          },
          "shapedefaults": {
           "line": {
            "color": "#2a3f5f"
           }
          },
          "ternary": {
           "aaxis": {
            "gridcolor": "white",
            "linecolor": "white",
            "ticks": ""
           },
           "baxis": {
            "gridcolor": "white",
            "linecolor": "white",
            "ticks": ""
           },
           "bgcolor": "#E5ECF6",
           "caxis": {
            "gridcolor": "white",
            "linecolor": "white",
            "ticks": ""
           }
          },
          "title": {
           "x": 0.05
          },
          "xaxis": {
           "automargin": true,
           "gridcolor": "white",
           "linecolor": "white",
           "ticks": "",
           "title": {
            "standoff": 15
           },
           "zerolinecolor": "white",
           "zerolinewidth": 2
          },
          "yaxis": {
           "automargin": true,
           "gridcolor": "white",
           "linecolor": "white",
           "ticks": "",
           "title": {
            "standoff": 15
           },
           "zerolinecolor": "white",
           "zerolinewidth": 2
          }
         }
        },
        "title": {
         "text": "Total Money Spent by Department per Semester"
        },
        "xaxis": {
         "anchor": "y",
         "categoryarray": [
          "Sep",
          "Oct",
          "Nov",
          "Dec",
          "Jan",
          "Feb",
          "Mar",
          "Apr",
          "May"
         ],
         "categoryorder": "array",
         "domain": [
          0,
          0.49
         ],
         "title": {
          "text": "Month"
         }
        },
        "xaxis2": {
         "anchor": "y2",
         "categoryarray": [
          "Sep",
          "Oct",
          "Nov",
          "Dec",
          "Jan",
          "Feb",
          "Mar",
          "Apr",
          "May"
         ],
         "categoryorder": "array",
         "domain": [
          0.51,
          1
         ],
         "matches": "x",
         "title": {
          "text": "Month"
         }
        },
        "xaxis3": {
         "anchor": "y3",
         "domain": [
          0,
          0.49
         ],
         "matches": "x",
         "showticklabels": false
        },
        "xaxis4": {
         "anchor": "y4",
         "domain": [
          0.51,
          1
         ],
         "matches": "x",
         "showticklabels": false
        },
        "xaxis5": {
         "anchor": "y5",
         "domain": [
          0,
          0.49
         ],
         "matches": "x",
         "showticklabels": false
        },
        "xaxis6": {
         "anchor": "y6",
         "domain": [
          0.51,
          1
         ],
         "matches": "x",
         "showticklabels": false
        },
        "yaxis": {
         "anchor": "x",
         "domain": [
          0,
          0.2866666666666666
         ],
         "title": {
          "text": "Total Money Spent ($)"
         }
        },
        "yaxis2": {
         "anchor": "x2",
         "domain": [
          0,
          0.2866666666666666
         ],
         "matches": "y",
         "showticklabels": false
        },
        "yaxis3": {
         "anchor": "x3",
         "domain": [
          0.35666666666666663,
          0.6433333333333333
         ],
         "matches": "y",
         "title": {
          "text": "Total Money Spent ($)"
         }
        },
        "yaxis4": {
         "anchor": "x4",
         "domain": [
          0.35666666666666663,
          0.6433333333333333
         ],
         "matches": "y",
         "showticklabels": false
        },
        "yaxis5": {
         "anchor": "x5",
         "domain": [
          0.7133333333333333,
          0.9999999999999999
         ],
         "matches": "y",
         "title": {
          "text": "Total Money Spent ($)"
         }
        },
        "yaxis6": {
         "anchor": "x6",
         "domain": [
          0.7133333333333333,
          0.9999999999999999
         ],
         "matches": "y",
         "showticklabels": false
        }
       }
      }
     },
     "metadata": {},
     "output_type": "display_data"
    }
   ],
   "source": [
    "color_map = {\n",
    "    'Res Dining': '#008080',   # Teal\n",
    "    'Martys': '#FF7F50',       # Coral\n",
    "    'Oneota': '#DAA520',       # Goldenrod\n",
    "    'C-Store': '#6A5ACD',      # Slate Blue\n",
    "    'Catering': '#2E8B57'      # Sea Green\n",
    "}\n",
    "\n",
    "month_order = ['Sep', 'Oct', 'Nov', 'Dec', 'Jan', 'Feb', 'Mar', 'Apr', 'May']\n",
    "\n",
    "fig = px.bar(agg_data, \n",
    "             x='Month', \n",
    "             y='Money Spent', \n",
    "             color='DEP', \n",
    "             title='Total Money Spent by Department per Semester',\n",
    "             labels={'Money Spent': 'Total Money Spent ($)', 'DEP': 'Department'},\n",
    "             barmode='group',\n",
    "             color_discrete_map=color_map,\n",
    "             category_orders={'Month': month_order},\n",
    "             facet_col='DEP',  # Create a separate subplot for each department\n",
    "             facet_col_wrap=2)  # Number of columns in the facet grid\n",
    "\n",
    "# Show the plot\n",
    "fig.show()"
   ]
  },
  {
   "cell_type": "code",
   "execution_count": 12,
   "metadata": {},
   "outputs": [
    {
     "data": {
      "application/vnd.plotly.v1+json": {
       "config": {
        "plotlyServerURL": "https://plot.ly"
       },
       "data": [
        {
         "alignmentgroup": "True",
         "hovertemplate": "Month=Apr<br>Department=%{x}<br>Money Spent=%{y}<extra></extra>",
         "legendgroup": "Apr",
         "marker": {
          "color": "#636efa",
          "pattern": {
           "shape": ""
          }
         },
         "name": "Apr",
         "offsetgroup": "Apr",
         "orientation": "v",
         "showlegend": true,
         "textposition": "auto",
         "texttemplate": "%{y}",
         "type": "bar",
         "x": [
          "C-Store",
          "Catering",
          "Martys",
          "Oneota",
          "Res Dining"
         ],
         "xaxis": "x",
         "y": [
          1998.346875,
          1137.51875,
          4963.4575,
          4170.061875,
          6999.105
         ],
         "yaxis": "y"
        },
        {
         "alignmentgroup": "True",
         "hovertemplate": "Month=Dec<br>Department=%{x}<br>Money Spent=%{y}<extra></extra>",
         "legendgroup": "Dec",
         "marker": {
          "color": "#EF553B",
          "pattern": {
           "shape": ""
          }
         },
         "name": "Dec",
         "offsetgroup": "Dec",
         "orientation": "v",
         "showlegend": true,
         "textposition": "auto",
         "texttemplate": "%{y}",
         "type": "bar",
         "x": [
          "C-Store",
          "Catering",
          "Martys",
          "Oneota",
          "Res Dining"
         ],
         "xaxis": "x",
         "y": [
          2326.88375,
          1671.2321875,
          4247.18375,
          2875.6862499999997,
          9188.649374999999
         ],
         "yaxis": "y"
        },
        {
         "alignmentgroup": "True",
         "hovertemplate": "Month=Feb<br>Department=%{x}<br>Money Spent=%{y}<extra></extra>",
         "legendgroup": "Feb",
         "marker": {
          "color": "#00cc96",
          "pattern": {
           "shape": ""
          }
         },
         "name": "Feb",
         "offsetgroup": "Feb",
         "orientation": "v",
         "showlegend": true,
         "textposition": "auto",
         "texttemplate": "%{y}",
         "type": "bar",
         "x": [
          "C-Store",
          "Catering",
          "Martys",
          "Oneota",
          "Res Dining"
         ],
         "xaxis": "x",
         "y": [
          2677.805625,
          1062.27,
          6913.9125,
          4291.445,
          7375.603125
         ],
         "yaxis": "y"
        },
        {
         "alignmentgroup": "True",
         "hovertemplate": "Month=Jan<br>Department=%{x}<br>Money Spent=%{y}<extra></extra>",
         "legendgroup": "Jan",
         "marker": {
          "color": "#ab63fa",
          "pattern": {
           "shape": ""
          }
         },
         "name": "Jan",
         "offsetgroup": "Jan",
         "orientation": "v",
         "showlegend": true,
         "textposition": "auto",
         "texttemplate": "%{y}",
         "type": "bar",
         "x": [
          "C-Store",
          "Catering",
          "Martys",
          "Oneota",
          "Res Dining"
         ],
         "xaxis": "x",
         "y": [
          2313.910625,
          1250.808125,
          6486.1,
          3823.4875,
          8293.110625
         ],
         "yaxis": "y"
        },
        {
         "alignmentgroup": "True",
         "hovertemplate": "Month=Mar<br>Department=%{x}<br>Money Spent=%{y}<extra></extra>",
         "legendgroup": "Mar",
         "marker": {
          "color": "#FFA15A",
          "pattern": {
           "shape": ""
          }
         },
         "name": "Mar",
         "offsetgroup": "Mar",
         "orientation": "v",
         "showlegend": true,
         "textposition": "auto",
         "texttemplate": "%{y}",
         "type": "bar",
         "x": [
          "C-Store",
          "Catering",
          "Martys",
          "Oneota",
          "Res Dining"
         ],
         "xaxis": "x",
         "y": [
          1746.053125,
          1162.54,
          5673.464375,
          3469.513125,
          7766.90125
         ],
         "yaxis": "y"
        },
        {
         "alignmentgroup": "True",
         "hovertemplate": "Month=May<br>Department=%{x}<br>Money Spent=%{y}<extra></extra>",
         "legendgroup": "May",
         "marker": {
          "color": "#19d3f3",
          "pattern": {
           "shape": ""
          }
         },
         "name": "May",
         "offsetgroup": "May",
         "orientation": "v",
         "showlegend": true,
         "textposition": "auto",
         "texttemplate": "%{y}",
         "type": "bar",
         "x": [
          "C-Store",
          "Catering",
          "Martys",
          "Oneota",
          "Res Dining"
         ],
         "xaxis": "x",
         "y": [
          1294.791875,
          815.8268750000001,
          4172.744375,
          2441.2137500000003,
          6157.7943749999995
         ],
         "yaxis": "y"
        },
        {
         "alignmentgroup": "True",
         "hovertemplate": "Month=Nov<br>Department=%{x}<br>Money Spent=%{y}<extra></extra>",
         "legendgroup": "Nov",
         "marker": {
          "color": "#FF6692",
          "pattern": {
           "shape": ""
          }
         },
         "name": "Nov",
         "offsetgroup": "Nov",
         "orientation": "v",
         "showlegend": true,
         "textposition": "auto",
         "texttemplate": "%{y}",
         "type": "bar",
         "x": [
          "C-Store",
          "Catering",
          "Martys",
          "Oneota",
          "Res Dining"
         ],
         "xaxis": "x",
         "y": [
          3140.79125,
          1605.10625,
          5465.755625000001,
          3539.998125,
          8848.203125
         ],
         "yaxis": "y"
        },
        {
         "alignmentgroup": "True",
         "hovertemplate": "Month=Oct<br>Department=%{x}<br>Money Spent=%{y}<extra></extra>",
         "legendgroup": "Oct",
         "marker": {
          "color": "#B6E880",
          "pattern": {
           "shape": ""
          }
         },
         "name": "Oct",
         "offsetgroup": "Oct",
         "orientation": "v",
         "showlegend": true,
         "textposition": "auto",
         "texttemplate": "%{y}",
         "type": "bar",
         "x": [
          "C-Store",
          "Catering",
          "Martys",
          "Oneota",
          "Res Dining"
         ],
         "xaxis": "x",
         "y": [
          3022.2293750000003,
          2377.04573225,
          10016.963749999999,
          5454.03125,
          13515.521875
         ],
         "yaxis": "y"
        },
        {
         "alignmentgroup": "True",
         "hovertemplate": "Month=Sep<br>Department=%{x}<br>Money Spent=%{y}<extra></extra>",
         "legendgroup": "Sep",
         "marker": {
          "color": "#FF97FF",
          "pattern": {
           "shape": ""
          }
         },
         "name": "Sep",
         "offsetgroup": "Sep",
         "orientation": "v",
         "showlegend": true,
         "textposition": "auto",
         "texttemplate": "%{y}",
         "type": "bar",
         "x": [
          "C-Store",
          "Catering",
          "Martys",
          "Oneota",
          "Res Dining"
         ],
         "xaxis": "x",
         "y": [
          3995.375625,
          2363.86833025,
          10828.535624999999,
          5871.321875,
          13515.521875
         ],
         "yaxis": "y"
        }
       ],
       "layout": {
        "barmode": "stack",
        "legend": {
         "title": {
          "text": "Month"
         },
         "tracegroupgap": 0
        },
        "template": {
         "data": {
          "bar": [
           {
            "error_x": {
             "color": "#2a3f5f"
            },
            "error_y": {
             "color": "#2a3f5f"
            },
            "marker": {
             "line": {
              "color": "#E5ECF6",
              "width": 0.5
             },
             "pattern": {
              "fillmode": "overlay",
              "size": 10,
              "solidity": 0.2
             }
            },
            "type": "bar"
           }
          ],
          "barpolar": [
           {
            "marker": {
             "line": {
              "color": "#E5ECF6",
              "width": 0.5
             },
             "pattern": {
              "fillmode": "overlay",
              "size": 10,
              "solidity": 0.2
             }
            },
            "type": "barpolar"
           }
          ],
          "carpet": [
           {
            "aaxis": {
             "endlinecolor": "#2a3f5f",
             "gridcolor": "white",
             "linecolor": "white",
             "minorgridcolor": "white",
             "startlinecolor": "#2a3f5f"
            },
            "baxis": {
             "endlinecolor": "#2a3f5f",
             "gridcolor": "white",
             "linecolor": "white",
             "minorgridcolor": "white",
             "startlinecolor": "#2a3f5f"
            },
            "type": "carpet"
           }
          ],
          "choropleth": [
           {
            "colorbar": {
             "outlinewidth": 0,
             "ticks": ""
            },
            "type": "choropleth"
           }
          ],
          "contour": [
           {
            "colorbar": {
             "outlinewidth": 0,
             "ticks": ""
            },
            "colorscale": [
             [
              0,
              "#0d0887"
             ],
             [
              0.1111111111111111,
              "#46039f"
             ],
             [
              0.2222222222222222,
              "#7201a8"
             ],
             [
              0.3333333333333333,
              "#9c179e"
             ],
             [
              0.4444444444444444,
              "#bd3786"
             ],
             [
              0.5555555555555556,
              "#d8576b"
             ],
             [
              0.6666666666666666,
              "#ed7953"
             ],
             [
              0.7777777777777778,
              "#fb9f3a"
             ],
             [
              0.8888888888888888,
              "#fdca26"
             ],
             [
              1,
              "#f0f921"
             ]
            ],
            "type": "contour"
           }
          ],
          "contourcarpet": [
           {
            "colorbar": {
             "outlinewidth": 0,
             "ticks": ""
            },
            "type": "contourcarpet"
           }
          ],
          "heatmap": [
           {
            "colorbar": {
             "outlinewidth": 0,
             "ticks": ""
            },
            "colorscale": [
             [
              0,
              "#0d0887"
             ],
             [
              0.1111111111111111,
              "#46039f"
             ],
             [
              0.2222222222222222,
              "#7201a8"
             ],
             [
              0.3333333333333333,
              "#9c179e"
             ],
             [
              0.4444444444444444,
              "#bd3786"
             ],
             [
              0.5555555555555556,
              "#d8576b"
             ],
             [
              0.6666666666666666,
              "#ed7953"
             ],
             [
              0.7777777777777778,
              "#fb9f3a"
             ],
             [
              0.8888888888888888,
              "#fdca26"
             ],
             [
              1,
              "#f0f921"
             ]
            ],
            "type": "heatmap"
           }
          ],
          "heatmapgl": [
           {
            "colorbar": {
             "outlinewidth": 0,
             "ticks": ""
            },
            "colorscale": [
             [
              0,
              "#0d0887"
             ],
             [
              0.1111111111111111,
              "#46039f"
             ],
             [
              0.2222222222222222,
              "#7201a8"
             ],
             [
              0.3333333333333333,
              "#9c179e"
             ],
             [
              0.4444444444444444,
              "#bd3786"
             ],
             [
              0.5555555555555556,
              "#d8576b"
             ],
             [
              0.6666666666666666,
              "#ed7953"
             ],
             [
              0.7777777777777778,
              "#fb9f3a"
             ],
             [
              0.8888888888888888,
              "#fdca26"
             ],
             [
              1,
              "#f0f921"
             ]
            ],
            "type": "heatmapgl"
           }
          ],
          "histogram": [
           {
            "marker": {
             "pattern": {
              "fillmode": "overlay",
              "size": 10,
              "solidity": 0.2
             }
            },
            "type": "histogram"
           }
          ],
          "histogram2d": [
           {
            "colorbar": {
             "outlinewidth": 0,
             "ticks": ""
            },
            "colorscale": [
             [
              0,
              "#0d0887"
             ],
             [
              0.1111111111111111,
              "#46039f"
             ],
             [
              0.2222222222222222,
              "#7201a8"
             ],
             [
              0.3333333333333333,
              "#9c179e"
             ],
             [
              0.4444444444444444,
              "#bd3786"
             ],
             [
              0.5555555555555556,
              "#d8576b"
             ],
             [
              0.6666666666666666,
              "#ed7953"
             ],
             [
              0.7777777777777778,
              "#fb9f3a"
             ],
             [
              0.8888888888888888,
              "#fdca26"
             ],
             [
              1,
              "#f0f921"
             ]
            ],
            "type": "histogram2d"
           }
          ],
          "histogram2dcontour": [
           {
            "colorbar": {
             "outlinewidth": 0,
             "ticks": ""
            },
            "colorscale": [
             [
              0,
              "#0d0887"
             ],
             [
              0.1111111111111111,
              "#46039f"
             ],
             [
              0.2222222222222222,
              "#7201a8"
             ],
             [
              0.3333333333333333,
              "#9c179e"
             ],
             [
              0.4444444444444444,
              "#bd3786"
             ],
             [
              0.5555555555555556,
              "#d8576b"
             ],
             [
              0.6666666666666666,
              "#ed7953"
             ],
             [
              0.7777777777777778,
              "#fb9f3a"
             ],
             [
              0.8888888888888888,
              "#fdca26"
             ],
             [
              1,
              "#f0f921"
             ]
            ],
            "type": "histogram2dcontour"
           }
          ],
          "mesh3d": [
           {
            "colorbar": {
             "outlinewidth": 0,
             "ticks": ""
            },
            "type": "mesh3d"
           }
          ],
          "parcoords": [
           {
            "line": {
             "colorbar": {
              "outlinewidth": 0,
              "ticks": ""
             }
            },
            "type": "parcoords"
           }
          ],
          "pie": [
           {
            "automargin": true,
            "type": "pie"
           }
          ],
          "scatter": [
           {
            "fillpattern": {
             "fillmode": "overlay",
             "size": 10,
             "solidity": 0.2
            },
            "type": "scatter"
           }
          ],
          "scatter3d": [
           {
            "line": {
             "colorbar": {
              "outlinewidth": 0,
              "ticks": ""
             }
            },
            "marker": {
             "colorbar": {
              "outlinewidth": 0,
              "ticks": ""
             }
            },
            "type": "scatter3d"
           }
          ],
          "scattercarpet": [
           {
            "marker": {
             "colorbar": {
              "outlinewidth": 0,
              "ticks": ""
             }
            },
            "type": "scattercarpet"
           }
          ],
          "scattergeo": [
           {
            "marker": {
             "colorbar": {
              "outlinewidth": 0,
              "ticks": ""
             }
            },
            "type": "scattergeo"
           }
          ],
          "scattergl": [
           {
            "marker": {
             "colorbar": {
              "outlinewidth": 0,
              "ticks": ""
             }
            },
            "type": "scattergl"
           }
          ],
          "scattermapbox": [
           {
            "marker": {
             "colorbar": {
              "outlinewidth": 0,
              "ticks": ""
             }
            },
            "type": "scattermapbox"
           }
          ],
          "scatterpolar": [
           {
            "marker": {
             "colorbar": {
              "outlinewidth": 0,
              "ticks": ""
             }
            },
            "type": "scatterpolar"
           }
          ],
          "scatterpolargl": [
           {
            "marker": {
             "colorbar": {
              "outlinewidth": 0,
              "ticks": ""
             }
            },
            "type": "scatterpolargl"
           }
          ],
          "scatterternary": [
           {
            "marker": {
             "colorbar": {
              "outlinewidth": 0,
              "ticks": ""
             }
            },
            "type": "scatterternary"
           }
          ],
          "surface": [
           {
            "colorbar": {
             "outlinewidth": 0,
             "ticks": ""
            },
            "colorscale": [
             [
              0,
              "#0d0887"
             ],
             [
              0.1111111111111111,
              "#46039f"
             ],
             [
              0.2222222222222222,
              "#7201a8"
             ],
             [
              0.3333333333333333,
              "#9c179e"
             ],
             [
              0.4444444444444444,
              "#bd3786"
             ],
             [
              0.5555555555555556,
              "#d8576b"
             ],
             [
              0.6666666666666666,
              "#ed7953"
             ],
             [
              0.7777777777777778,
              "#fb9f3a"
             ],
             [
              0.8888888888888888,
              "#fdca26"
             ],
             [
              1,
              "#f0f921"
             ]
            ],
            "type": "surface"
           }
          ],
          "table": [
           {
            "cells": {
             "fill": {
              "color": "#EBF0F8"
             },
             "line": {
              "color": "white"
             }
            },
            "header": {
             "fill": {
              "color": "#C8D4E3"
             },
             "line": {
              "color": "white"
             }
            },
            "type": "table"
           }
          ]
         },
         "layout": {
          "annotationdefaults": {
           "arrowcolor": "#2a3f5f",
           "arrowhead": 0,
           "arrowwidth": 1
          },
          "autotypenumbers": "strict",
          "coloraxis": {
           "colorbar": {
            "outlinewidth": 0,
            "ticks": ""
           }
          },
          "colorscale": {
           "diverging": [
            [
             0,
             "#8e0152"
            ],
            [
             0.1,
             "#c51b7d"
            ],
            [
             0.2,
             "#de77ae"
            ],
            [
             0.3,
             "#f1b6da"
            ],
            [
             0.4,
             "#fde0ef"
            ],
            [
             0.5,
             "#f7f7f7"
            ],
            [
             0.6,
             "#e6f5d0"
            ],
            [
             0.7,
             "#b8e186"
            ],
            [
             0.8,
             "#7fbc41"
            ],
            [
             0.9,
             "#4d9221"
            ],
            [
             1,
             "#276419"
            ]
           ],
           "sequential": [
            [
             0,
             "#0d0887"
            ],
            [
             0.1111111111111111,
             "#46039f"
            ],
            [
             0.2222222222222222,
             "#7201a8"
            ],
            [
             0.3333333333333333,
             "#9c179e"
            ],
            [
             0.4444444444444444,
             "#bd3786"
            ],
            [
             0.5555555555555556,
             "#d8576b"
            ],
            [
             0.6666666666666666,
             "#ed7953"
            ],
            [
             0.7777777777777778,
             "#fb9f3a"
            ],
            [
             0.8888888888888888,
             "#fdca26"
            ],
            [
             1,
             "#f0f921"
            ]
           ],
           "sequentialminus": [
            [
             0,
             "#0d0887"
            ],
            [
             0.1111111111111111,
             "#46039f"
            ],
            [
             0.2222222222222222,
             "#7201a8"
            ],
            [
             0.3333333333333333,
             "#9c179e"
            ],
            [
             0.4444444444444444,
             "#bd3786"
            ],
            [
             0.5555555555555556,
             "#d8576b"
            ],
            [
             0.6666666666666666,
             "#ed7953"
            ],
            [
             0.7777777777777778,
             "#fb9f3a"
            ],
            [
             0.8888888888888888,
             "#fdca26"
            ],
            [
             1,
             "#f0f921"
            ]
           ]
          },
          "colorway": [
           "#636efa",
           "#EF553B",
           "#00cc96",
           "#ab63fa",
           "#FFA15A",
           "#19d3f3",
           "#FF6692",
           "#B6E880",
           "#FF97FF",
           "#FECB52"
          ],
          "font": {
           "color": "#2a3f5f"
          },
          "geo": {
           "bgcolor": "white",
           "lakecolor": "white",
           "landcolor": "#E5ECF6",
           "showlakes": true,
           "showland": true,
           "subunitcolor": "white"
          },
          "hoverlabel": {
           "align": "left"
          },
          "hovermode": "closest",
          "mapbox": {
           "style": "light"
          },
          "paper_bgcolor": "white",
          "plot_bgcolor": "#E5ECF6",
          "polar": {
           "angularaxis": {
            "gridcolor": "white",
            "linecolor": "white",
            "ticks": ""
           },
           "bgcolor": "#E5ECF6",
           "radialaxis": {
            "gridcolor": "white",
            "linecolor": "white",
            "ticks": ""
           }
          },
          "scene": {
           "xaxis": {
            "backgroundcolor": "#E5ECF6",
            "gridcolor": "white",
            "gridwidth": 2,
            "linecolor": "white",
            "showbackground": true,
            "ticks": "",
            "zerolinecolor": "white"
           },
           "yaxis": {
            "backgroundcolor": "#E5ECF6",
            "gridcolor": "white",
            "gridwidth": 2,
            "linecolor": "white",
            "showbackground": true,
            "ticks": "",
            "zerolinecolor": "white"
           },
           "zaxis": {
            "backgroundcolor": "#E5ECF6",
            "gridcolor": "white",
            "gridwidth": 2,
            "linecolor": "white",
            "showbackground": true,
            "ticks": "",
            "zerolinecolor": "white"
           }
          },
          "shapedefaults": {
           "line": {
            "color": "#2a3f5f"
           }
          },
          "ternary": {
           "aaxis": {
            "gridcolor": "white",
            "linecolor": "white",
            "ticks": ""
           },
           "baxis": {
            "gridcolor": "white",
            "linecolor": "white",
            "ticks": ""
           },
           "bgcolor": "#E5ECF6",
           "caxis": {
            "gridcolor": "white",
            "linecolor": "white",
            "ticks": ""
           }
          },
          "title": {
           "x": 0.05
          },
          "xaxis": {
           "automargin": true,
           "gridcolor": "white",
           "linecolor": "white",
           "ticks": "",
           "title": {
            "standoff": 15
           },
           "zerolinecolor": "white",
           "zerolinewidth": 2
          },
          "yaxis": {
           "automargin": true,
           "gridcolor": "white",
           "linecolor": "white",
           "ticks": "",
           "title": {
            "standoff": 15
           },
           "zerolinecolor": "white",
           "zerolinewidth": 2
          }
         }
        },
        "title": {
         "text": "Total Money Spent by Department and Semester"
        },
        "xaxis": {
         "anchor": "y",
         "categoryorder": "total descending",
         "domain": [
          0,
          1
         ],
         "title": {
          "text": "Department"
         }
        },
        "yaxis": {
         "anchor": "x",
         "domain": [
          0,
          1
         ],
         "title": {
          "text": "Money Spent"
         }
        }
       }
      }
     },
     "metadata": {},
     "output_type": "display_data"
    }
   ],
   "source": [
    "fig = px.bar(agg_data, x='DEP', y='Money Spent', color='Month', \n",
    "             title='Total Money Spent by Department and Semester', \n",
    "             labels={'Money Spent': 'Money Spent', 'DEP': 'Department'},\n",
    "             text_auto=True)\n",
    "\n",
    "fig.update_layout(barmode='stack', xaxis={'categoryorder':'total descending'})\n",
    "fig.show()"
   ]
  },
  {
   "cell_type": "code",
   "execution_count": 13,
   "metadata": {},
   "outputs": [
    {
     "data": {
      "application/vnd.plotly.v1+json": {
       "config": {
        "plotlyServerURL": "https://plot.ly"
       },
       "data": [
        {
         "branchvalues": "total",
         "domain": {
          "x": [
           0,
           1
          ],
          "y": [
           0,
           1
          ]
         },
         "hovertemplate": "labels=%{label}<br>Money Spent=%{value}<br>parent=%{parent}<br>id=%{id}<extra></extra>",
         "ids": [
          "C-Store/Apr",
          "Catering/Apr",
          "Martys/Apr",
          "Oneota/Apr",
          "Res Dining/Apr",
          "C-Store/Dec",
          "Catering/Dec",
          "Martys/Dec",
          "Oneota/Dec",
          "Res Dining/Dec",
          "C-Store/Feb",
          "Catering/Feb",
          "Martys/Feb",
          "Oneota/Feb",
          "Res Dining/Feb",
          "C-Store/Jan",
          "Catering/Jan",
          "Martys/Jan",
          "Oneota/Jan",
          "Res Dining/Jan",
          "C-Store/Mar",
          "Catering/Mar",
          "Martys/Mar",
          "Oneota/Mar",
          "Res Dining/Mar",
          "C-Store/May",
          "Catering/May",
          "Martys/May",
          "Oneota/May",
          "Res Dining/May",
          "C-Store/Nov",
          "Catering/Nov",
          "Martys/Nov",
          "Oneota/Nov",
          "Res Dining/Nov",
          "C-Store/Oct",
          "Catering/Oct",
          "Martys/Oct",
          "Oneota/Oct",
          "Res Dining/Oct",
          "C-Store/Sep",
          "Catering/Sep",
          "Martys/Sep",
          "Oneota/Sep",
          "Res Dining/Sep",
          "C-Store",
          "Catering",
          "Martys",
          "Oneota",
          "Res Dining"
         ],
         "labels": [
          "Apr",
          "Apr",
          "Apr",
          "Apr",
          "Apr",
          "Dec",
          "Dec",
          "Dec",
          "Dec",
          "Dec",
          "Feb",
          "Feb",
          "Feb",
          "Feb",
          "Feb",
          "Jan",
          "Jan",
          "Jan",
          "Jan",
          "Jan",
          "Mar",
          "Mar",
          "Mar",
          "Mar",
          "Mar",
          "May",
          "May",
          "May",
          "May",
          "May",
          "Nov",
          "Nov",
          "Nov",
          "Nov",
          "Nov",
          "Oct",
          "Oct",
          "Oct",
          "Oct",
          "Oct",
          "Sep",
          "Sep",
          "Sep",
          "Sep",
          "Sep",
          "C-Store",
          "Catering",
          "Martys",
          "Oneota",
          "Res Dining"
         ],
         "name": "",
         "parents": [
          "C-Store",
          "Catering",
          "Martys",
          "Oneota",
          "Res Dining",
          "C-Store",
          "Catering",
          "Martys",
          "Oneota",
          "Res Dining",
          "C-Store",
          "Catering",
          "Martys",
          "Oneota",
          "Res Dining",
          "C-Store",
          "Catering",
          "Martys",
          "Oneota",
          "Res Dining",
          "C-Store",
          "Catering",
          "Martys",
          "Oneota",
          "Res Dining",
          "C-Store",
          "Catering",
          "Martys",
          "Oneota",
          "Res Dining",
          "C-Store",
          "Catering",
          "Martys",
          "Oneota",
          "Res Dining",
          "C-Store",
          "Catering",
          "Martys",
          "Oneota",
          "Res Dining",
          "C-Store",
          "Catering",
          "Martys",
          "Oneota",
          "Res Dining",
          "",
          "",
          "",
          "",
          ""
         ],
         "type": "treemap",
         "values": [
          1998.346875,
          1137.51875,
          4963.4575,
          4170.061875,
          6999.105,
          2326.88375,
          1671.2321875,
          4247.18375,
          2875.6862499999997,
          9188.649374999999,
          2677.805625,
          1062.27,
          6913.9125,
          4291.445,
          7375.603125,
          2313.910625,
          1250.808125,
          6486.1,
          3823.4875,
          8293.110625,
          1746.053125,
          1162.54,
          5673.464375,
          3469.513125,
          7766.90125,
          1294.791875,
          815.8268750000001,
          4172.744375,
          2441.2137500000003,
          6157.7943749999995,
          3140.79125,
          1605.10625,
          5465.755625000001,
          3539.998125,
          8848.203125,
          3022.2293750000003,
          2377.04573225,
          10016.963749999999,
          5454.03125,
          13515.521875,
          3995.375625,
          2363.86833025,
          10828.535624999999,
          5871.321875,
          13515.521875,
          22516.188125,
          13446.21625,
          58768.1175,
          35936.75875,
          81660.41062499999
         ]
        }
       ],
       "layout": {
        "legend": {
         "tracegroupgap": 0
        },
        "template": {
         "data": {
          "bar": [
           {
            "error_x": {
             "color": "#2a3f5f"
            },
            "error_y": {
             "color": "#2a3f5f"
            },
            "marker": {
             "line": {
              "color": "#E5ECF6",
              "width": 0.5
             },
             "pattern": {
              "fillmode": "overlay",
              "size": 10,
              "solidity": 0.2
             }
            },
            "type": "bar"
           }
          ],
          "barpolar": [
           {
            "marker": {
             "line": {
              "color": "#E5ECF6",
              "width": 0.5
             },
             "pattern": {
              "fillmode": "overlay",
              "size": 10,
              "solidity": 0.2
             }
            },
            "type": "barpolar"
           }
          ],
          "carpet": [
           {
            "aaxis": {
             "endlinecolor": "#2a3f5f",
             "gridcolor": "white",
             "linecolor": "white",
             "minorgridcolor": "white",
             "startlinecolor": "#2a3f5f"
            },
            "baxis": {
             "endlinecolor": "#2a3f5f",
             "gridcolor": "white",
             "linecolor": "white",
             "minorgridcolor": "white",
             "startlinecolor": "#2a3f5f"
            },
            "type": "carpet"
           }
          ],
          "choropleth": [
           {
            "colorbar": {
             "outlinewidth": 0,
             "ticks": ""
            },
            "type": "choropleth"
           }
          ],
          "contour": [
           {
            "colorbar": {
             "outlinewidth": 0,
             "ticks": ""
            },
            "colorscale": [
             [
              0,
              "#0d0887"
             ],
             [
              0.1111111111111111,
              "#46039f"
             ],
             [
              0.2222222222222222,
              "#7201a8"
             ],
             [
              0.3333333333333333,
              "#9c179e"
             ],
             [
              0.4444444444444444,
              "#bd3786"
             ],
             [
              0.5555555555555556,
              "#d8576b"
             ],
             [
              0.6666666666666666,
              "#ed7953"
             ],
             [
              0.7777777777777778,
              "#fb9f3a"
             ],
             [
              0.8888888888888888,
              "#fdca26"
             ],
             [
              1,
              "#f0f921"
             ]
            ],
            "type": "contour"
           }
          ],
          "contourcarpet": [
           {
            "colorbar": {
             "outlinewidth": 0,
             "ticks": ""
            },
            "type": "contourcarpet"
           }
          ],
          "heatmap": [
           {
            "colorbar": {
             "outlinewidth": 0,
             "ticks": ""
            },
            "colorscale": [
             [
              0,
              "#0d0887"
             ],
             [
              0.1111111111111111,
              "#46039f"
             ],
             [
              0.2222222222222222,
              "#7201a8"
             ],
             [
              0.3333333333333333,
              "#9c179e"
             ],
             [
              0.4444444444444444,
              "#bd3786"
             ],
             [
              0.5555555555555556,
              "#d8576b"
             ],
             [
              0.6666666666666666,
              "#ed7953"
             ],
             [
              0.7777777777777778,
              "#fb9f3a"
             ],
             [
              0.8888888888888888,
              "#fdca26"
             ],
             [
              1,
              "#f0f921"
             ]
            ],
            "type": "heatmap"
           }
          ],
          "heatmapgl": [
           {
            "colorbar": {
             "outlinewidth": 0,
             "ticks": ""
            },
            "colorscale": [
             [
              0,
              "#0d0887"
             ],
             [
              0.1111111111111111,
              "#46039f"
             ],
             [
              0.2222222222222222,
              "#7201a8"
             ],
             [
              0.3333333333333333,
              "#9c179e"
             ],
             [
              0.4444444444444444,
              "#bd3786"
             ],
             [
              0.5555555555555556,
              "#d8576b"
             ],
             [
              0.6666666666666666,
              "#ed7953"
             ],
             [
              0.7777777777777778,
              "#fb9f3a"
             ],
             [
              0.8888888888888888,
              "#fdca26"
             ],
             [
              1,
              "#f0f921"
             ]
            ],
            "type": "heatmapgl"
           }
          ],
          "histogram": [
           {
            "marker": {
             "pattern": {
              "fillmode": "overlay",
              "size": 10,
              "solidity": 0.2
             }
            },
            "type": "histogram"
           }
          ],
          "histogram2d": [
           {
            "colorbar": {
             "outlinewidth": 0,
             "ticks": ""
            },
            "colorscale": [
             [
              0,
              "#0d0887"
             ],
             [
              0.1111111111111111,
              "#46039f"
             ],
             [
              0.2222222222222222,
              "#7201a8"
             ],
             [
              0.3333333333333333,
              "#9c179e"
             ],
             [
              0.4444444444444444,
              "#bd3786"
             ],
             [
              0.5555555555555556,
              "#d8576b"
             ],
             [
              0.6666666666666666,
              "#ed7953"
             ],
             [
              0.7777777777777778,
              "#fb9f3a"
             ],
             [
              0.8888888888888888,
              "#fdca26"
             ],
             [
              1,
              "#f0f921"
             ]
            ],
            "type": "histogram2d"
           }
          ],
          "histogram2dcontour": [
           {
            "colorbar": {
             "outlinewidth": 0,
             "ticks": ""
            },
            "colorscale": [
             [
              0,
              "#0d0887"
             ],
             [
              0.1111111111111111,
              "#46039f"
             ],
             [
              0.2222222222222222,
              "#7201a8"
             ],
             [
              0.3333333333333333,
              "#9c179e"
             ],
             [
              0.4444444444444444,
              "#bd3786"
             ],
             [
              0.5555555555555556,
              "#d8576b"
             ],
             [
              0.6666666666666666,
              "#ed7953"
             ],
             [
              0.7777777777777778,
              "#fb9f3a"
             ],
             [
              0.8888888888888888,
              "#fdca26"
             ],
             [
              1,
              "#f0f921"
             ]
            ],
            "type": "histogram2dcontour"
           }
          ],
          "mesh3d": [
           {
            "colorbar": {
             "outlinewidth": 0,
             "ticks": ""
            },
            "type": "mesh3d"
           }
          ],
          "parcoords": [
           {
            "line": {
             "colorbar": {
              "outlinewidth": 0,
              "ticks": ""
             }
            },
            "type": "parcoords"
           }
          ],
          "pie": [
           {
            "automargin": true,
            "type": "pie"
           }
          ],
          "scatter": [
           {
            "fillpattern": {
             "fillmode": "overlay",
             "size": 10,
             "solidity": 0.2
            },
            "type": "scatter"
           }
          ],
          "scatter3d": [
           {
            "line": {
             "colorbar": {
              "outlinewidth": 0,
              "ticks": ""
             }
            },
            "marker": {
             "colorbar": {
              "outlinewidth": 0,
              "ticks": ""
             }
            },
            "type": "scatter3d"
           }
          ],
          "scattercarpet": [
           {
            "marker": {
             "colorbar": {
              "outlinewidth": 0,
              "ticks": ""
             }
            },
            "type": "scattercarpet"
           }
          ],
          "scattergeo": [
           {
            "marker": {
             "colorbar": {
              "outlinewidth": 0,
              "ticks": ""
             }
            },
            "type": "scattergeo"
           }
          ],
          "scattergl": [
           {
            "marker": {
             "colorbar": {
              "outlinewidth": 0,
              "ticks": ""
             }
            },
            "type": "scattergl"
           }
          ],
          "scattermapbox": [
           {
            "marker": {
             "colorbar": {
              "outlinewidth": 0,
              "ticks": ""
             }
            },
            "type": "scattermapbox"
           }
          ],
          "scatterpolar": [
           {
            "marker": {
             "colorbar": {
              "outlinewidth": 0,
              "ticks": ""
             }
            },
            "type": "scatterpolar"
           }
          ],
          "scatterpolargl": [
           {
            "marker": {
             "colorbar": {
              "outlinewidth": 0,
              "ticks": ""
             }
            },
            "type": "scatterpolargl"
           }
          ],
          "scatterternary": [
           {
            "marker": {
             "colorbar": {
              "outlinewidth": 0,
              "ticks": ""
             }
            },
            "type": "scatterternary"
           }
          ],
          "surface": [
           {
            "colorbar": {
             "outlinewidth": 0,
             "ticks": ""
            },
            "colorscale": [
             [
              0,
              "#0d0887"
             ],
             [
              0.1111111111111111,
              "#46039f"
             ],
             [
              0.2222222222222222,
              "#7201a8"
             ],
             [
              0.3333333333333333,
              "#9c179e"
             ],
             [
              0.4444444444444444,
              "#bd3786"
             ],
             [
              0.5555555555555556,
              "#d8576b"
             ],
             [
              0.6666666666666666,
              "#ed7953"
             ],
             [
              0.7777777777777778,
              "#fb9f3a"
             ],
             [
              0.8888888888888888,
              "#fdca26"
             ],
             [
              1,
              "#f0f921"
             ]
            ],
            "type": "surface"
           }
          ],
          "table": [
           {
            "cells": {
             "fill": {
              "color": "#EBF0F8"
             },
             "line": {
              "color": "white"
             }
            },
            "header": {
             "fill": {
              "color": "#C8D4E3"
             },
             "line": {
              "color": "white"
             }
            },
            "type": "table"
           }
          ]
         },
         "layout": {
          "annotationdefaults": {
           "arrowcolor": "#2a3f5f",
           "arrowhead": 0,
           "arrowwidth": 1
          },
          "autotypenumbers": "strict",
          "coloraxis": {
           "colorbar": {
            "outlinewidth": 0,
            "ticks": ""
           }
          },
          "colorscale": {
           "diverging": [
            [
             0,
             "#8e0152"
            ],
            [
             0.1,
             "#c51b7d"
            ],
            [
             0.2,
             "#de77ae"
            ],
            [
             0.3,
             "#f1b6da"
            ],
            [
             0.4,
             "#fde0ef"
            ],
            [
             0.5,
             "#f7f7f7"
            ],
            [
             0.6,
             "#e6f5d0"
            ],
            [
             0.7,
             "#b8e186"
            ],
            [
             0.8,
             "#7fbc41"
            ],
            [
             0.9,
             "#4d9221"
            ],
            [
             1,
             "#276419"
            ]
           ],
           "sequential": [
            [
             0,
             "#0d0887"
            ],
            [
             0.1111111111111111,
             "#46039f"
            ],
            [
             0.2222222222222222,
             "#7201a8"
            ],
            [
             0.3333333333333333,
             "#9c179e"
            ],
            [
             0.4444444444444444,
             "#bd3786"
            ],
            [
             0.5555555555555556,
             "#d8576b"
            ],
            [
             0.6666666666666666,
             "#ed7953"
            ],
            [
             0.7777777777777778,
             "#fb9f3a"
            ],
            [
             0.8888888888888888,
             "#fdca26"
            ],
            [
             1,
             "#f0f921"
            ]
           ],
           "sequentialminus": [
            [
             0,
             "#0d0887"
            ],
            [
             0.1111111111111111,
             "#46039f"
            ],
            [
             0.2222222222222222,
             "#7201a8"
            ],
            [
             0.3333333333333333,
             "#9c179e"
            ],
            [
             0.4444444444444444,
             "#bd3786"
            ],
            [
             0.5555555555555556,
             "#d8576b"
            ],
            [
             0.6666666666666666,
             "#ed7953"
            ],
            [
             0.7777777777777778,
             "#fb9f3a"
            ],
            [
             0.8888888888888888,
             "#fdca26"
            ],
            [
             1,
             "#f0f921"
            ]
           ]
          },
          "colorway": [
           "#636efa",
           "#EF553B",
           "#00cc96",
           "#ab63fa",
           "#FFA15A",
           "#19d3f3",
           "#FF6692",
           "#B6E880",
           "#FF97FF",
           "#FECB52"
          ],
          "font": {
           "color": "#2a3f5f"
          },
          "geo": {
           "bgcolor": "white",
           "lakecolor": "white",
           "landcolor": "#E5ECF6",
           "showlakes": true,
           "showland": true,
           "subunitcolor": "white"
          },
          "hoverlabel": {
           "align": "left"
          },
          "hovermode": "closest",
          "mapbox": {
           "style": "light"
          },
          "paper_bgcolor": "white",
          "plot_bgcolor": "#E5ECF6",
          "polar": {
           "angularaxis": {
            "gridcolor": "white",
            "linecolor": "white",
            "ticks": ""
           },
           "bgcolor": "#E5ECF6",
           "radialaxis": {
            "gridcolor": "white",
            "linecolor": "white",
            "ticks": ""
           }
          },
          "scene": {
           "xaxis": {
            "backgroundcolor": "#E5ECF6",
            "gridcolor": "white",
            "gridwidth": 2,
            "linecolor": "white",
            "showbackground": true,
            "ticks": "",
            "zerolinecolor": "white"
           },
           "yaxis": {
            "backgroundcolor": "#E5ECF6",
            "gridcolor": "white",
            "gridwidth": 2,
            "linecolor": "white",
            "showbackground": true,
            "ticks": "",
            "zerolinecolor": "white"
           },
           "zaxis": {
            "backgroundcolor": "#E5ECF6",
            "gridcolor": "white",
            "gridwidth": 2,
            "linecolor": "white",
            "showbackground": true,
            "ticks": "",
            "zerolinecolor": "white"
           }
          },
          "shapedefaults": {
           "line": {
            "color": "#2a3f5f"
           }
          },
          "ternary": {
           "aaxis": {
            "gridcolor": "white",
            "linecolor": "white",
            "ticks": ""
           },
           "baxis": {
            "gridcolor": "white",
            "linecolor": "white",
            "ticks": ""
           },
           "bgcolor": "#E5ECF6",
           "caxis": {
            "gridcolor": "white",
            "linecolor": "white",
            "ticks": ""
           }
          },
          "title": {
           "x": 0.05
          },
          "xaxis": {
           "automargin": true,
           "gridcolor": "white",
           "linecolor": "white",
           "ticks": "",
           "title": {
            "standoff": 15
           },
           "zerolinecolor": "white",
           "zerolinewidth": 2
          },
          "yaxis": {
           "automargin": true,
           "gridcolor": "white",
           "linecolor": "white",
           "ticks": "",
           "title": {
            "standoff": 15
           },
           "zerolinecolor": "white",
           "zerolinewidth": 2
          }
         }
        },
        "title": {
         "text": "Treemap of Money Spent by Department and Semester"
        }
       }
      }
     },
     "metadata": {},
     "output_type": "display_data"
    }
   ],
   "source": [
    "fig = px.treemap(agg_data, path=['DEP', 'Month'], values='Money Spent', \n",
    "                 title='Treemap of Money Spent by Department and Semester', \n",
    "                 labels={'Money Spent': 'Money Spent', 'DEP': 'Department'})\n",
    "\n",
    "fig.show()"
   ]
  },
  {
   "cell_type": "code",
   "execution_count": null,
   "metadata": {},
   "outputs": [],
   "source": []
  }
 ],
 "metadata": {
  "kernelspec": {
   "display_name": "Python 3",
   "language": "python",
   "name": "python3"
  },
  "language_info": {
   "codemirror_mode": {
    "name": "ipython",
    "version": 3
   },
   "file_extension": ".py",
   "mimetype": "text/x-python",
   "name": "python",
   "nbconvert_exporter": "python",
   "pygments_lexer": "ipython3",
   "version": "3.11.2"
  }
 },
 "nbformat": 4,
 "nbformat_minor": 2
}
